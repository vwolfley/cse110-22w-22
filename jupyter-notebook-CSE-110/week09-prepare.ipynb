{
 "cells": [
  {
   "cell_type": "markdown",
   "id": "af973054",
   "metadata": {},
   "source": [
    "# Week 09 Prepare:\n",
    "## Practice working with lists.\n",
    "\n",
    "Ask the user for the names of their friends and append them to a list. Then, display each of the friends in the list. You should stop asking for friends when the user types \"end\".\n",
    "\n",
    "### Testing Procedure\n",
    "Verify that your program works correctly by following each step in this testing procedure:\n",
    "\n",
    "01. Test it with just one name.\n",
    "\n",
    "02. Test it with 3–4 names\n",
    "\n",
    "03. Make sure that the word \"end\" doesn't display at the end of your list of friends.\n",
    "\n",
    "04. Test it by entering the same name 3 times before typing end (the result should be that you see the name repeated 3 times in the list).\n",
    "\n",
    "05. Test it with no names, just the word end, and make sure it doesn't cause any errors."
   ]
  },
  {
   "cell_type": "code",
   "execution_count": 7,
   "id": "103f03ad",
   "metadata": {},
   "outputs": [
    {
     "name": "stdout",
     "output_type": "stream",
     "text": [
      "What is name of your friend?  tom\n",
      "What is name of your friend?  jack\n",
      "What is name of your friend?  jill\n",
      "What is name of your friend?  mack\n",
      "What is name of your friend?  bill\n",
      "What is name of your friend?  end\n",
      "Your friends are: \n",
      "tom\n",
      "jack\n",
      "jill\n",
      "mack\n",
      "bill\n"
     ]
    }
   ],
   "source": [
    "\"\"\"\n",
    "File: check09_sample.py\n",
    "Author: Vern Wolfley\n",
    "Purpose: Practice using lists, by adding the names of friends.\n",
    "\"\"\"\n",
    "\n",
    "friends =[]\n",
    "\n",
    "friend = None\n",
    "while friend !=\"end\":\n",
    "    friend = input(\"What is name of your friend?  \")\n",
    "    if friend != \"end\":\n",
    "        friends.append(friend)\n",
    "\n",
    "print(f\"Your friends are: \")\n",
    "\n",
    "for friend in friends:       \n",
    "    print(friend)\n",
    "\n",
    "        "
   ]
  },
  {
   "cell_type": "code",
   "execution_count": null,
   "id": "7349d77f",
   "metadata": {},
   "outputs": [],
   "source": []
  },
  {
   "cell_type": "code",
   "execution_count": null,
   "id": "893016c2",
   "metadata": {},
   "outputs": [],
   "source": []
  }
 ],
 "metadata": {
  "kernelspec": {
   "display_name": "Python 3 (ipykernel)",
   "language": "python",
   "name": "python3"
  },
  "language_info": {
   "codemirror_mode": {
    "name": "ipython",
    "version": 3
   },
   "file_extension": ".py",
   "mimetype": "text/x-python",
   "name": "python",
   "nbconvert_exporter": "python",
   "pygments_lexer": "ipython3",
   "version": "3.9.7"
  }
 },
 "nbformat": 4,
 "nbformat_minor": 5
}
