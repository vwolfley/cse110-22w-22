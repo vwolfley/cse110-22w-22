{
 "cells": [
  {
   "cell_type": "markdown",
   "id": "98b75b8d",
   "metadata": {},
   "source": [
    "# Week 10 - Prepare\n",
    "\n",
    "### Assignment\n",
    "For this assignment, you'll download the file books.txt that contains the names of the books in the Book of Mormon, and save it to your computer.\n",
    "\n",
    "Once you have the file saved to your computer, in VS Code, open the folder that contains it and create a new Python script.\n",
    "\n",
    "Have your program open the file, read through it line by line, strip off leading and trailing whitespace and display each book to the screen.\n",
    "\n",
    "### Testing Procedure\n",
    "For this program, there isn't any user input, so you don't need to try different values. Instead, simply verify that the following work as described\n",
    "\n",
    "01. The books.txt file is downloaded and saved to your computer.\n",
    "\n",
    "02. Your program can open the file.\n",
    "\n",
    "03. Your program reads a line from the file and displays it to the screen.\n",
    "\n",
    "04. Your program iterates through each line in the file and displays them to the screen.\n",
    "\n",
    "05. Your program strips off the \"\\n\" characters at the end of each line before displaying them, so it doesn't produce a blank line in between each displayed line."
   ]
  },
  {
   "cell_type": "code",
   "execution_count": 2,
   "id": "c530ad40",
   "metadata": {},
   "outputs": [
    {
     "name": "stdout",
     "output_type": "stream",
     "text": [
      "1 Nephi\n",
      "2 Nephi\n",
      "Jacob\n",
      "Enos\n",
      "Jarom\n",
      "Omni\n",
      "Words of Mormon\n",
      "Mosiah\n",
      "Alma\n",
      "Helaman\n",
      "3 Nephi\n",
      "4 Nephi\n",
      "Mormon\n",
      "Ether\n",
      "Moroni\n"
     ]
    }
   ],
   "source": [
    "#####\n",
    "# Date: 2022-03-15\n",
    "# Week 11 Prepare: Open Files\n",
    "# File: week11-prepare.py\n",
    "# Author: Vern Wolfley\n",
    "# Purpose: Working with files\n",
    "#####\n",
    "\n",
    "# Path to my directory where the images are stored\n",
    "file_path = \"../assignment_files/books.txt\"\n",
    "books = file_path\n",
    "\n",
    "with open(books) as books_file:\n",
    "    for row in books_file:\n",
    "        new_row = row.strip()\n",
    "        print(new_row)\n",
    "    \n",
    "    \n",
    "    "
   ]
  },
  {
   "cell_type": "code",
   "execution_count": null,
   "id": "e1925dc4",
   "metadata": {},
   "outputs": [],
   "source": []
  }
 ],
 "metadata": {
  "kernelspec": {
   "display_name": "Python 3 (ipykernel)",
   "language": "python",
   "name": "python3"
  },
  "language_info": {
   "codemirror_mode": {
    "name": "ipython",
    "version": 3
   },
   "file_extension": ".py",
   "mimetype": "text/x-python",
   "name": "python",
   "nbconvert_exporter": "python",
   "pygments_lexer": "ipython3",
   "version": "3.9.7"
  }
 },
 "nbformat": 4,
 "nbformat_minor": 5
}
