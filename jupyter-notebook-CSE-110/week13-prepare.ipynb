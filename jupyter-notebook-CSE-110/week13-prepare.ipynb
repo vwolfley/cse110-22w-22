{
 "cells": [
  {
   "cell_type": "markdown",
   "id": "d566a251",
   "metadata": {},
   "source": [
    "# Week 13 Prepare\n",
    "\n",
    "## Assignment\n",
    "Write three functions:\n",
    "\n",
    "01. display_regular—Receives a string and prints it out, exactly as received.\n",
    "\n",
    "02. display_uppercase—Receives a string, converts it to upper case, and then prints it out.\n",
    "\n",
    "03. display_lowercase—Receives a string, converts it to lower case, and then prints it out.\n",
    "\n",
    "In your program below the functions, ask the user to type a message. Then, pass that message to each of the three functions, so it it displays it each way, as shown:\n",
    "\n",
    ">\n",
    ">What is your message? Brother Burton\\\n",
    ">Brother Burton\\\n",
    ">BROTHER BURTON\\\n",
    ">brother burton\n",
    ">"
   ]
  },
  {
   "cell_type": "code",
   "execution_count": 6,
   "id": "2a4c5b8a",
   "metadata": {},
   "outputs": [
    {
     "name": "stdout",
     "output_type": "stream",
     "text": [
      "What is your message?  Help Me Win The World\n",
      "Help Me Win The World\n",
      "HELP ME WIN THE WORLD\n",
      "help me win the world\n"
     ]
    }
   ],
   "source": [
    "#####\n",
    "# Date: 2022-03-28\n",
    "# Week 13 Prepare: work functions\n",
    "# File: week13-prepare.py\n",
    "# Author: Vern Wolfley\n",
    "# Purpose: Practice writing basic functions\n",
    "#####\n",
    "\n",
    "\n",
    "def display_regular(message):\n",
    "    print(message)\n",
    "    \n",
    "def display_uppercase(message):\n",
    "    print(message.upper()) \n",
    "    \n",
    "def display_lowercase(message):\n",
    "    print(message.lower())\n",
    "    \n",
    "    \n",
    "message = input(\"What is your message?  \")\n",
    "display_regular(message)\n",
    "display_uppercase(message)\n",
    "display_lowercase(message)\n",
    "\n"
   ]
  },
  {
   "cell_type": "code",
   "execution_count": null,
   "id": "6a0dd02e",
   "metadata": {},
   "outputs": [],
   "source": []
  },
  {
   "cell_type": "code",
   "execution_count": null,
   "id": "6d21f38c",
   "metadata": {},
   "outputs": [],
   "source": []
  }
 ],
 "metadata": {
  "kernelspec": {
   "display_name": "Python 3 (ipykernel)",
   "language": "python",
   "name": "python3"
  },
  "language_info": {
   "codemirror_mode": {
    "name": "ipython",
    "version": 3
   },
   "file_extension": ".py",
   "mimetype": "text/x-python",
   "name": "python",
   "nbconvert_exporter": "python",
   "pygments_lexer": "ipython3",
   "version": "3.9.7"
  }
 },
 "nbformat": 4,
 "nbformat_minor": 5
}
