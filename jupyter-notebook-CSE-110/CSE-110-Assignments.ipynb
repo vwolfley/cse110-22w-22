{
 "cells": [
  {
   "cell_type": "markdown",
   "id": "155ac8c8",
   "metadata": {},
   "source": [
    "# Class Assignments for CSE-110"
   ]
  },
  {
   "cell_type": "markdown",
   "id": "9882a988",
   "metadata": {},
   "source": [
    "## Week 1 Assignments"
   ]
  },
  {
   "cell_type": "markdown",
   "id": "2b8c2ff6",
   "metadata": {},
   "source": [
    "### Hello World"
   ]
  },
  {
   "cell_type": "code",
   "execution_count": 1,
   "id": "da613645",
   "metadata": {
    "scrolled": true
   },
   "outputs": [
    {
     "name": "stdout",
     "output_type": "stream",
     "text": [
      "Hello World!\n"
     ]
    }
   ],
   "source": [
    "#####\n",
    "# Date: 2022-01-03\n",
    "# File: hello-world.py\n",
    "# Author: Vern Wolfley\n",
    "# Purpose: Display text on the screen\n",
    "#####\n",
    "\n",
    "print('Hello World!')"
   ]
  },
  {
   "cell_type": "markdown",
   "id": "3f0e4f5e",
   "metadata": {},
   "source": [
    "### Favorite Color"
   ]
  },
  {
   "cell_type": "code",
   "execution_count": 26,
   "id": "f2ab4cfe",
   "metadata": {
    "scrolled": true
   },
   "outputs": [
    {
     "name": "stdout",
     "output_type": "stream",
     "text": [
      "Please type your favorite color: blue\n",
      "Your favorite color is - blue!\n"
     ]
    }
   ],
   "source": [
    "# Basic\n",
    "\n",
    "name = input(\"Please type your favorite color: \")\n",
    "print(\"Your favorite color is -\", name + \"!\")"
   ]
  },
  {
   "cell_type": "code",
   "execution_count": 44,
   "id": "2656ac7f",
   "metadata": {},
   "outputs": [
    {
     "name": "stdout",
     "output_type": "stream",
     "text": [
      "Who am I working with today?\n",
      " - vern\n",
      "Hello Vern!\n",
      "Vern, what is your favorite color?\n",
      " - blue\n",
      "Blue, is a great color!\n",
      "My favorite color is Red.\n"
     ]
    }
   ],
   "source": [
    "# More Complicated\n",
    "import random\n",
    "\n",
    "print(\"Who am I working with today?\")\n",
    "userName = input(\" - \")\n",
    "print(\"Hello \" + userName.capitalize()+\"!\")\n",
    "print(userName.capitalize() + \", what is your favorite color?\")\n",
    "colorChoice = input(\" - \")\n",
    "print(colorChoice.capitalize() + \", is a great color!\")\n",
    "\n",
    "colorList = [\"Blue\", \"Green\", \"Pink\", \"Red\", \"Yellow\"]\n",
    "print(\"My favorite color is\", random.choice(colorList) + \".\")"
   ]
  },
  {
   "cell_type": "markdown",
   "id": "a45f3820",
   "metadata": {},
   "source": [
    "# Week 2 Assignments\n",
    "\n",
    "### Strings \"James Bond\""
   ]
  },
  {
   "cell_type": "code",
   "execution_count": 7,
   "id": "c54713a1",
   "metadata": {},
   "outputs": [
    {
     "name": "stdout",
     "output_type": "stream",
     "text": [
      "What is your first name?\n",
      " - jane\n",
      "What is your last name?\n",
      " - bond\n",
      "Your name is Bond, Jane Bond.\n"
     ]
    }
   ],
   "source": [
    "#####\n",
    "# Date: 2022-01-10\n",
    "# File: formatting_strings.py\n",
    "# Author: Vern Wolfley\n",
    "# Purpose: Display name like Bond, James Bond\n",
    "#####\n",
    "\n",
    "print(\"What is your first name?\")\n",
    "first_name = input(\" - \").capitalize()\n",
    "print(\"What is your last name?\")\n",
    "last_name = input(\" - \").capitalize()\n",
    "output = f\"Your name is {last_name}, {first_name} {last_name}.\"\n",
    "print(output)"
   ]
  },
  {
   "cell_type": "code",
   "execution_count": null,
   "id": "e92e44d9",
   "metadata": {},
   "outputs": [],
   "source": []
  }
 ],
 "metadata": {
  "kernelspec": {
   "display_name": "Python 3 (ipykernel)",
   "language": "python",
   "name": "python3"
  },
  "language_info": {
   "codemirror_mode": {
    "name": "ipython",
    "version": 3
   },
   "file_extension": ".py",
   "mimetype": "text/x-python",
   "name": "python",
   "nbconvert_exporter": "python",
   "pygments_lexer": "ipython3",
   "version": "3.9.7"
  }
 },
 "nbformat": 4,
 "nbformat_minor": 5
}
