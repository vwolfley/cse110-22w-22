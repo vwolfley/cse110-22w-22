{
 "cells": [
  {
   "cell_type": "code",
   "execution_count": 1,
   "id": "638f77f5",
   "metadata": {},
   "outputs": [
    {
     "name": "stdout",
     "output_type": "stream",
     "text": [
      "You're watching TV in your home alone and the power goes out in your bedroom. Do you go downstairs to check it out?\n",
      "Yes or no? yes\n",
      "You go downstairs and hear a noise. Do you want to grab something to protect yourself?\n",
      "Yes or no? no\n",
      "This story line does not end well.\n",
      "Do you want to start over? no\n"
     ]
    }
   ],
   "source": [
    "phone = 'no'\n",
    "game_start = 'yes'\n",
    "\n",
    "while game_start == 'yes':\n",
    "  print('You\\'re watching TV in your home alone and the power goes out in your bedroom. Do you go downstairs to check it out?')\n",
    "  answer_1 = input('Yes or no? ')\n",
    "  if answer_1 == 'yes':\n",
    "    print('You go downstairs and hear a noise. Do you want to grab something to protect yourself?') \n",
    "  else:\n",
    "    print('You close the door and lock it. You search for your phone, but realize it\\'s still in the bathroom. Do you go look for it?')\n",
    "    phone = input('Yes or no? ')\n",
    "    while phone == 'no':\n",
    "      print('You don\\'t have any options. Do you want to look for your phone?')\n",
    "      phone = input('Yes or no? ')\n",
    "    print('You open the door and tiptoe into the bathroom. You grab your phone and hear a noise downstairs. Do you want to check it out?')\n",
    "  answer_2 = input('Yes or no? ')\n",
    "  if answer_2 == 'yes':\n",
    "    print('You picked up your sister\\'s baseball bat. Do you want to head towards the noise?')\n",
    "    answer_3 = input('Yes or no? ')\n",
    "    if answer_3 == 'yes':\n",
    "      print('You slowly inch towards the noise in your garage. You notice that the power is switched off. Is it time to call the police?')\n",
    "      answer_4 = input('Yes or no? ')\n",
    "      if answer_4 == 'yes':\n",
    "        if phone == 'yes':\n",
    "          print('Good choice. You call 911 and wait for authorities to arrive.')\n",
    "          break\n",
    "        print('You feel your pocket and realize you left it inside. Do you head back inside?')\n",
    "        input('Yes or no? ')\n",
    "        print('You realize it\\'s not a good idea to go back inside. You go to your neighbor\\'s house and call the police.')\n",
    "        break\n",
    "      else:\n",
    "        print('Surprise! You search the garage and find your best friend hiding there. They were playing a prank on you! ')\n",
    "      break\n",
    "    else:\n",
    "      if phone == 'yes':\n",
    "        print('Good call. You dial 911 and wait for authorities to arrive.')\n",
    "        break\n",
    "      print('You try to dial 911, but realize you don\\'t have your phone.')\n",
    "  else:\n",
    "    if phone == 'yes':\n",
    "      print('Good call. You dial 911 and wait for authorities to arrive.')\n",
    "      break\n",
    "    print('This story line does not end well.')\n",
    "  game_start = input('Do you want to start over? ')\n"
   ]
  },
  {
   "cell_type": "code",
   "execution_count": null,
   "id": "036b3e1e",
   "metadata": {},
   "outputs": [],
   "source": []
  }
 ],
 "metadata": {
  "kernelspec": {
   "display_name": "Python 3 (ipykernel)",
   "language": "python",
   "name": "python3"
  },
  "language_info": {
   "codemirror_mode": {
    "name": "ipython",
    "version": 3
   },
   "file_extension": ".py",
   "mimetype": "text/x-python",
   "name": "python",
   "nbconvert_exporter": "python",
   "pygments_lexer": "ipython3",
   "version": "3.9.7"
  }
 },
 "nbformat": 4,
 "nbformat_minor": 5
}
