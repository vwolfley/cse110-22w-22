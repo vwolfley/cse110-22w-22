{
 "cells": [
  {
   "cell_type": "markdown",
   "id": "ca062ec1",
   "metadata": {},
   "source": [
    "# CSE 110 Week 7\n",
    "\n",
    "## 07 Prepare: Checkpoint\n",
    "\n",
    "#### Assignment\n",
    "Write a Python Program that does each of the following:\n",
    "\n",
    "1. Use a while loop to ask the user for a positive number (>= 0). Continue asking as long as the number is negative, then display the number. For example:\n",
    "\n",
    "2. Use a while loop, to simulate a child asking their parent for a piece of candy. Have the program keep looping until the user answers \"yes\", then have the program output \"Thank you.\" For example:\n",
    "\n",
    "\n",
    "#### Testing Procedure\n",
    "Verify that your program works correctly by following each step in this testing procedure:\n",
    "\n",
    "1. For the positive number program, enter several negative numbers, then a positive one.\n",
    "2. Try entering a positive number first, and ensure that it doesn't ask again.\n",
    "3. Try entering 0 and ensure that it correctly treats it as a positive number.\n",
    "4. For the piece of candy program, test your last loop by entering different amounts of no's before finally saying yes.\n",
    "5. Try saying \"yes\" the very first time, and ensure that it works as expected."
   ]
  },
  {
   "cell_type": "code",
   "execution_count": 5,
   "id": "7f22d51d",
   "metadata": {},
   "outputs": [
    {
     "name": "stdout",
     "output_type": "stream",
     "text": [
      "Please type a positive number: 0\n",
      "The number is: 0\n"
     ]
    }
   ],
   "source": [
    "# 01 While Loop\n",
    "num = int(input(\"Please type a positive number: \"))\n",
    "\n",
    "while num < 0:\n",
    "    print(\"Sorry, that is a negative number. Please try again.\")\n",
    "    num = int(input(\"Please type a positive number: \"))\n",
    "\n",
    "print(f\"The number is: {num}\")"
   ]
  },
  {
   "cell_type": "code",
   "execution_count": 7,
   "id": "c88bb498",
   "metadata": {},
   "outputs": [
    {
     "name": "stdout",
     "output_type": "stream",
     "text": [
      "May I have a piece of candy? n\n",
      "May I have a piece of candy? n\n",
      "May I have a piece of candy? n\n",
      "May I have a piece of candy? n\n",
      "May I have a piece of candy? n\n",
      "May I have a piece of candy? n\n",
      "May I have a piece of candy? n\n",
      "May I have a piece of candy? n\n",
      "May I have a piece of candy? n\n",
      "May I have a piece of candy? n\n",
      "May I have a piece of candy? n\n",
      "May I have a piece of candy? n\n",
      "May I have a piece of candy? n\n",
      "May I have a piece of candy? n\n",
      "May I have a piece of candy? n\n",
      "May I have a piece of candy? n\n",
      "May I have a piece of candy? y\n",
      "Thank You!\n"
     ]
    }
   ],
   "source": [
    "# 01 While Loop\n",
    "yes =  ['yes', 'y']\n",
    "no = ['no','n']\n",
    "\n",
    "Q = input(\"May I have a piece of candy? \")\n",
    "\n",
    "while Q in no:\n",
    "    Q = input(\"May I have a piece of candy? \")\n",
    "    \n",
    "print(\"Thank You!\")\n"
   ]
  },
  {
   "cell_type": "markdown",
   "id": "be687fd7",
   "metadata": {},
   "source": [
    "## 07 Prepare: Team Activity\n",
    "### Guess My Number Game\n",
    "\n",
    "#### Assignment\n",
    "\n",
    "I. HAVING THE COMPUTER PICK A RANDOM NUMBER\n",
    "\n",
    "#### CORE REQUIREMENTS\n",
    "\n",
    "1. <p>Start by asking the user for the magic number. (In future steps, we will change this to have the computer generate a random number, but to get started, we'll just let the user decide what it is.)<br>\n",
    "Ask the user for a guess.<br>\n",
    "Using an if statement, determine if the user needs to guess higher or lower next time, or tell them if they guessed it.</p>\n",
    "\n",
    "2. <p>Add a loop that keeps looping as long as the guess does not match the magic number.<br>\n",
    "At this point, the user should be able to keep playing until they get the correct answer.</p>\n",
    "\n",
    "3. <p>Instead of having the user supply the magic number, import the random library and use it to generate a random number from 1 to 100.<br>\n",
    "Play the game and make sure it works!</p>\n"
   ]
  },
  {
   "cell_type": "code",
   "execution_count": 13,
   "id": "6c2ea785",
   "metadata": {},
   "outputs": [
    {
     "name": "stdout",
     "output_type": "stream",
     "text": [
      "5\n"
     ]
    }
   ],
   "source": [
    "import random\n",
    "\n",
    "number = random.randint(1, 10)\n",
    "print(number)"
   ]
  },
  {
   "cell_type": "code",
   "execution_count": 5,
   "id": "c1c0f6f2",
   "metadata": {},
   "outputs": [
    {
     "name": "stdout",
     "output_type": "stream",
     "text": [
      "What is the magic number?  6\n",
      "What is your guess?  6\n",
      "You guessed it!\n"
     ]
    }
   ],
   "source": [
    "# Core Requirement 1\n",
    "number = int(input(\"What is the magic number?  \"))\n",
    "guess = int(input(\"What is your guess?  \"))\n",
    "\n",
    "if guess > number:\n",
    "    print(\"Lower\")\n",
    "elif guess < number:\n",
    "    print(\"Higher\")\n",
    "else:\n",
    "    print(\"You guessed it!\")"
   ]
  },
  {
   "cell_type": "code",
   "execution_count": 8,
   "id": "cd545e14",
   "metadata": {},
   "outputs": [
    {
     "name": "stdout",
     "output_type": "stream",
     "text": [
      "What is the magic number?  4\n",
      "What is your guess?  5\n",
      "Lower\n",
      "Guess Again?  2\n",
      "Higher\n",
      "Guess Again?  7\n",
      "Lower\n",
      "Guess Again?  4\n",
      "You guessed it!\n"
     ]
    }
   ],
   "source": [
    "# Core Requirement 2\n",
    "number = int(input(\"What is the magic number?  \"))\n",
    "guess = int(input(\"What is your guess?  \"))\n",
    "\n",
    "while guess != number:\n",
    "    if guess > number:\n",
    "        print(\"Lower\")\n",
    "        guess = int(input(\"Guess Again?  \"))\n",
    "    elif guess < number:\n",
    "        print(\"Higher\")\n",
    "        guess = int(input(\"Guess Again?  \"))\n",
    "\n",
    "print(\"You guessed it!\")"
   ]
  },
  {
   "cell_type": "code",
   "execution_count": 9,
   "id": "f373cc81",
   "metadata": {},
   "outputs": [
    {
     "name": "stdout",
     "output_type": "stream",
     "text": [
      "Pick a number between 1 and 100:  3\n",
      "Higher\n",
      "Guess Again?  4\n",
      "Higher\n",
      "Guess Again?  5\n",
      "Higher\n",
      "Guess Again?  1\n",
      "Higher\n",
      "Guess Again?  9\n",
      "Lower\n",
      "Guess Again?  8\n",
      "You guessed it!\n"
     ]
    }
   ],
   "source": [
    "# Core Requirement 3\n",
    "import random\n",
    "\n",
    "number = random.randint(1, 100)\n",
    "guess = int(input(\"Pick a number between 1 and 100:  \"))\n",
    "\n",
    "while guess != number:\n",
    "    if guess > number:\n",
    "        print(\"Lower\")\n",
    "        guess = int(input(\"Guess Again?  \"))\n",
    "    elif guess < number:\n",
    "        print(\"Higher\")\n",
    "        guess = int(input(\"Guess Again?  \"))\n",
    "\n",
    "print(\"You guessed it!\")"
   ]
  },
  {
   "cell_type": "code",
   "execution_count": 14,
   "id": "7e5f321c",
   "metadata": {},
   "outputs": [
    {
     "name": "stdout",
     "output_type": "stream",
     "text": [
      "Welcome to the Game!\n",
      "Pick a number between 1 and 100:  1\n",
      "Higher\n",
      "Guess Again?  2\n",
      "Higher\n",
      "Guess Again?  3\n",
      "Higher\n",
      "Guess Again?  4\n",
      "\n",
      "********************************************************************************\n",
      "*                          It took you 4 to guess it!                          *\n",
      "*                                  GAME OVER                                   *\n",
      "********************************************************************************\n",
      "\n"
     ]
    }
   ],
   "source": [
    "# Stretch Challenge 2\n",
    "import random\n",
    "\n",
    "print(\"Welcome to the Game!\")\n",
    "number = random.randint(1, 5)\n",
    "guess = int(input(\"Pick a number between 1 and 100:  \"))\n",
    "count = 0\n",
    "\n",
    "while guess != number:\n",
    "    if guess > number:\n",
    "        print(\"Lower\")\n",
    "        guess = int(input(\"Guess Again?  \"))\n",
    "        count += 1 \n",
    "    elif guess < number:\n",
    "        print(\"Higher\")\n",
    "        guess = int(input(\"Guess Again?  \"))\n",
    "        count += 1 \n",
    "count += 1\n",
    "\n",
    "if count == 1:\n",
    "    word = \"try\"\n",
    "word = \"try's\"\n",
    "\n",
    "win = (f'''\n",
    "{\"*\":*^80}\n",
    "*{f\"It took you {count} {word} to guess it!\":^78}*\n",
    "*{\"GAME OVER\":^78}*\n",
    "{\"*\":*^80}\n",
    "''')\n",
    "\n",
    "print(win)"
   ]
  },
  {
   "cell_type": "code",
   "execution_count": 2,
   "id": "18b4a0ec",
   "metadata": {},
   "outputs": [
    {
     "name": "stdout",
     "output_type": "stream",
     "text": [
      "Welcome to the Game!\n",
      "\n",
      "Pick a number between 1 and 100:  5\n",
      "Lower\n",
      "Guess Again?  4\n",
      "Lower\n",
      "Guess Again?  3\n",
      "Lower\n",
      "Guess Again?  2\n",
      "\n",
      "    ********************************************************************************\n",
      "    *                       It took you 4 try's to guess it!                       *\n",
      "    *                                  GAME OVER                                   *\n",
      "    ********************************************************************************\n",
      "    \n",
      "Do you want to play again? (Y/N) n\n",
      "\n",
      "*** Thanks for Playing! ***\n",
      "\n"
     ]
    }
   ],
   "source": [
    "##### Stretch Challenge 3\n",
    "import random\n",
    "\n",
    "again = True\n",
    "yes = [\"yes\", \"y\"]\n",
    "print(\"Welcome to the Game!\\n\")\n",
    "\n",
    "while again == True:\n",
    "    number = random.randint(1, 5)\n",
    "    guess = int(input(\"Pick a number between 1 and 100:  \"))\n",
    "    count = 0\n",
    "\n",
    "    while guess != number:\n",
    "        if guess > number:\n",
    "            print(\"Lower\")\n",
    "            guess = int(input(\"Guess Again?  \"))\n",
    "            count += 1 \n",
    "        elif guess < number:\n",
    "            print(\"Higher\")\n",
    "            guess = int(input(\"Guess Again?  \"))\n",
    "            count += 1 \n",
    "    count += 1\n",
    "\n",
    "    if count == 1:\n",
    "        word = \"try\"\n",
    "    word = \"try's\"\n",
    "\n",
    "    win = (f'''\n",
    "    {\"*\":*^80}\n",
    "    *{f\"It took you {count} {word} to guess it!\":^78}*\n",
    "    *{\"GAME OVER\":^78}*\n",
    "    {\"*\":*^80}\n",
    "    ''')\n",
    "\n",
    "    print(win)\n",
    "\n",
    "    play_again = input(\"Do you want to play again? (Y/N) \").lower()\n",
    "\n",
    "    if play_again in yes:\n",
    "        print(play_again)\n",
    "        again = True\n",
    "    else:\n",
    "        again = False\n",
    "\n",
    "print(f'''\n",
    "*** Thanks for Playing! ***\n",
    "''')\n",
    "    "
   ]
  },
  {
   "cell_type": "code",
   "execution_count": null,
   "id": "ec4b84ab",
   "metadata": {},
   "outputs": [],
   "source": []
  },
  {
   "cell_type": "code",
   "execution_count": null,
   "id": "b33dd057",
   "metadata": {},
   "outputs": [],
   "source": []
  }
 ],
 "metadata": {
  "kernelspec": {
   "display_name": "Python 3 (ipykernel)",
   "language": "python",
   "name": "python3"
  },
  "language_info": {
   "codemirror_mode": {
    "name": "ipython",
    "version": 3
   },
   "file_extension": ".py",
   "mimetype": "text/x-python",
   "name": "python",
   "nbconvert_exporter": "python",
   "pygments_lexer": "ipython3",
   "version": "3.9.7"
  }
 },
 "nbformat": 4,
 "nbformat_minor": 5
}
