{
 "cells": [
  {
   "cell_type": "markdown",
   "id": "2a254e1c",
   "metadata": {},
   "source": [
    "# Week 10 - Team Activity\n",
    "## Assignment\n",
    "### Core Requirements¶\n",
    "\n",
    "The format of each line is:\n",
    "name id_number job_title salary\n",
    "There is a single space between each field of data.\n",
    "\n",
    "Your assignment is to write a program to iterate through each line of this file, gather the information from each field and display or take certain actions depending on the data.\n",
    "\n",
    "01. Download the file and save it to your computer. In VS Code, open the folder that contains this file. Then, create a new Python script in that folder.\n",
    "\n",
    "    Have your program open the HR System file, read through it line by line, and at this point, simply display the line to the screen.\n",
    "\n",
    "02. Split the line into parts and change your display, so that it shows only the names (instead of the whole line).\n",
    "\n",
    "03. For each line, get the name and the job title for each person, and display those to the screen."
   ]
  },
  {
   "cell_type": "code",
   "execution_count": 4,
   "id": "fa87ed24",
   "metadata": {},
   "outputs": [
    {
     "name": "stdout",
     "output_type": "stream",
     "text": [
      "Alexia 1913 Engineer 84000\n",
      "Herman 4266 Manager 106000\n",
      "Jay 5849 Engineer 93000\n",
      "Ahmad 1326 Tester 85000\n",
      "Ciaran 2019 Engineer 62000\n",
      "Callum 8005 Engineer 73000\n",
      "Samantha 4802 Tester 80000\n",
      "Antonio 1423 Tester 51000\n",
      "May 5575 CFO 112000\n",
      "Sebastian 7378 Scientist 102000\n",
      "Kaitlyn 4542 Support 63000\n",
      "William 7364 Tester 74000\n",
      "Sophie 3437 Engineer 109000\n",
      "Isaiah 1518 Designer 58000\n",
      "Aimee 8093 CEO 125000\n",
      "Patrick 2214 Sales 87000\n",
      "Gloria 4414 Designer 79000\n",
      "Joseph 9427 Sales 91000\n",
      "Barbara 5967 Engineer 104000\n"
     ]
    }
   ],
   "source": [
    "#####\n",
    "# Date: 2022-03-15\n",
    "# Week 11 Team Activity\n",
    "# File: week11-team-activity.py\n",
    "# Author: Vern Wolfley\n",
    "# Purpose: Human Resorces System\n",
    "# Core Requirements\n",
    "#####\n",
    "\n",
    "# Path to my directory\n",
    "file_path = \"../assignment_files/hr_system.txt\"\n",
    "hr_files = file_path\n",
    "\n",
    "with open(hr_files) as employees:\n",
    "    for employee in employees:\n",
    "        new_employee = employee.strip()\n",
    "        print(new_employee)\n",
    "        \n",
    "        \n",
    "        "
   ]
  },
  {
   "cell_type": "code",
   "execution_count": 1,
   "id": "7286e2f1",
   "metadata": {},
   "outputs": [
    {
     "name": "stdout",
     "output_type": "stream",
     "text": [
      "Name: Alexia, Title: Engineer\n",
      "Name: Herman, Title: Manager\n",
      "Name: Jay, Title: Engineer\n",
      "Name: Ahmad, Title: Tester\n",
      "Name: Ciaran, Title: Engineer\n",
      "Name: Callum, Title: Engineer\n",
      "Name: Samantha, Title: Tester\n",
      "Name: Antonio, Title: Tester\n",
      "Name: May, Title: CFO\n",
      "Name: Sebastian, Title: Scientist\n",
      "Name: Kaitlyn, Title: Support\n",
      "Name: William, Title: Tester\n",
      "Name: Sophie, Title: Engineer\n",
      "Name: Isaiah, Title: Designer\n",
      "Name: Aimee, Title: CEO\n",
      "Name: Patrick, Title: Sales\n",
      "Name: Gloria, Title: Designer\n",
      "Name: Joseph, Title: Sales\n",
      "Name: Barbara, Title: Engineer\n"
     ]
    }
   ],
   "source": [
    "# Path to my directory\n",
    "file_path = \"../assignment_files/hr_system.txt\"\n",
    "hr_files = file_path\n",
    "\n",
    "with open(hr_files) as employees:\n",
    "    for employee in employees:\n",
    "        new_employee = employee.strip()\n",
    "        employee_info = new_employee.split()\n",
    "        \n",
    "        name = employee_info[0]\n",
    "        id_number = employee_info[1]\n",
    "        job_title = employee_info[2]\n",
    "        salary = employee_info[3]\n",
    "        \n",
    "        output = f'''Name: {name}, Title: {job_title}'''\n",
    "        print(output)\n",
    "        \n",
    "        "
   ]
  },
  {
   "cell_type": "markdown",
   "id": "ade40a58",
   "metadata": {},
   "source": [
    "## Stretch Challenge\n",
    "01. Strip off any leading and trailing whitespace from each line.\n",
    "    In addition to the name and the job title, also access the salary and the ID number and save them into variables. Display all four values in this format: name (ID: id_number), job_title - $salary. Don't forget to convert the salary to a number and display it with two decimals.\n",
    "\n",
    "02. Instead of displaying the salary information, calculate and display a paycheck amount for the employee. Assume that they are paid twice a month.\n",
    "\n",
    "03. Change the program so that it generates bonuses for anyone who is an engineer. For each of these employees, add $1000 to their paycheck amount."
   ]
  },
  {
   "cell_type": "markdown",
   "id": "d1e0735b",
   "metadata": {},
   "source": [
    "### Stretch Challenge 01"
   ]
  },
  {
   "cell_type": "code",
   "execution_count": 19,
   "id": "ed3bad6f",
   "metadata": {},
   "outputs": [
    {
     "name": "stdout",
     "output_type": "stream",
     "text": [
      "Alexia (ID: 1913), Engineer - $84,000.00\n",
      "Herman (ID: 4266), Manager - $106,000.00\n",
      "Jay (ID: 5849), Engineer - $93,000.00\n",
      "Ahmad (ID: 1326), Tester - $85,000.00\n",
      "Ciaran (ID: 2019), Engineer - $62,000.00\n",
      "Callum (ID: 8005), Engineer - $73,000.00\n",
      "Samantha (ID: 4802), Tester - $80,000.00\n",
      "Antonio (ID: 1423), Tester - $51,000.00\n",
      "May (ID: 5575), CFO - $112,000.00\n",
      "Sebastian (ID: 7378), Scientist - $102,000.00\n",
      "Kaitlyn (ID: 4542), Support - $63,000.00\n",
      "William (ID: 7364), Tester - $74,000.00\n",
      "Sophie (ID: 3437), Engineer - $109,000.00\n",
      "Isaiah (ID: 1518), Designer - $58,000.00\n",
      "Aimee (ID: 8093), CEO - $125,000.00\n",
      "Patrick (ID: 2214), Sales - $87,000.00\n",
      "Gloria (ID: 4414), Designer - $79,000.00\n",
      "Joseph (ID: 9427), Sales - $91,000.00\n",
      "Barbara (ID: 5967), Engineer - $104,000.00\n"
     ]
    }
   ],
   "source": [
    "# Path to my directory\n",
    "file_path = \"../assignment_files/hr_system.txt\"\n",
    "hr_files = file_path\n",
    "\n",
    "with open(hr_files) as employees:\n",
    "    for employee in employees:\n",
    "        new_employee = employee.strip()\n",
    "        employee_info = new_employee.split()\n",
    "        \n",
    "        name = employee_info[0]\n",
    "        id_number = employee_info[1]\n",
    "        job_title = employee_info[2]\n",
    "        salary = float(employee_info[3])\n",
    "        \n",
    "        output = f\"{name} (ID: {id_number}), {job_title} - ${salary:,.2f}\"\n",
    "        print(output)"
   ]
  },
  {
   "cell_type": "markdown",
   "id": "57670f12",
   "metadata": {},
   "source": [
    "### Stretch Challenge 02"
   ]
  },
  {
   "cell_type": "code",
   "execution_count": 21,
   "id": "d333932f",
   "metadata": {},
   "outputs": [
    {
     "name": "stdout",
     "output_type": "stream",
     "text": [
      "Alexia (ID: 1913), Engineer - $3,500.00\n",
      "Herman (ID: 4266), Manager - $4,416.67\n",
      "Jay (ID: 5849), Engineer - $3,875.00\n",
      "Ahmad (ID: 1326), Tester - $3,541.67\n",
      "Ciaran (ID: 2019), Engineer - $2,583.33\n",
      "Callum (ID: 8005), Engineer - $3,041.67\n",
      "Samantha (ID: 4802), Tester - $3,333.33\n",
      "Antonio (ID: 1423), Tester - $2,125.00\n",
      "May (ID: 5575), CFO - $4,666.67\n",
      "Sebastian (ID: 7378), Scientist - $4,250.00\n",
      "Kaitlyn (ID: 4542), Support - $2,625.00\n",
      "William (ID: 7364), Tester - $3,083.33\n",
      "Sophie (ID: 3437), Engineer - $4,541.67\n",
      "Isaiah (ID: 1518), Designer - $2,416.67\n",
      "Aimee (ID: 8093), CEO - $5,208.33\n",
      "Patrick (ID: 2214), Sales - $3,625.00\n",
      "Gloria (ID: 4414), Designer - $3,291.67\n",
      "Joseph (ID: 9427), Sales - $3,791.67\n",
      "Barbara (ID: 5967), Engineer - $4,333.33\n"
     ]
    }
   ],
   "source": [
    "# Path to my directory\n",
    "file_path = \"../assignment_files/hr_system.txt\"\n",
    "hr_files = file_path\n",
    "\n",
    "with open(hr_files) as employees:\n",
    "    for employee in employees:\n",
    "        new_employee = employee.strip()\n",
    "        employee_info = new_employee.split()\n",
    "        \n",
    "        name = employee_info[0]\n",
    "        id_number = employee_info[1]\n",
    "        job_title = employee_info[2]\n",
    "        salary = float(employee_info[3])\n",
    "        \n",
    "        paycheck = salary / 24\n",
    "        \n",
    "        output = f\"{name} (ID: {id_number}), {job_title} - ${paycheck:,.2f}\"\n",
    "        print(output)"
   ]
  },
  {
   "cell_type": "markdown",
   "id": "b72fba5f",
   "metadata": {},
   "source": [
    "### Stretch Challenge 03"
   ]
  },
  {
   "cell_type": "code",
   "execution_count": 22,
   "id": "7f9f8759",
   "metadata": {},
   "outputs": [
    {
     "name": "stdout",
     "output_type": "stream",
     "text": [
      "Alexia (ID: 1913), Engineer - $4,500.00\n",
      "Herman (ID: 4266), Manager - $4,416.67\n",
      "Jay (ID: 5849), Engineer - $4,875.00\n",
      "Ahmad (ID: 1326), Tester - $3,541.67\n",
      "Ciaran (ID: 2019), Engineer - $3,583.33\n",
      "Callum (ID: 8005), Engineer - $4,041.67\n",
      "Samantha (ID: 4802), Tester - $3,333.33\n",
      "Antonio (ID: 1423), Tester - $2,125.00\n",
      "May (ID: 5575), CFO - $4,666.67\n",
      "Sebastian (ID: 7378), Scientist - $4,250.00\n",
      "Kaitlyn (ID: 4542), Support - $2,625.00\n",
      "William (ID: 7364), Tester - $3,083.33\n",
      "Sophie (ID: 3437), Engineer - $5,541.67\n",
      "Isaiah (ID: 1518), Designer - $2,416.67\n",
      "Aimee (ID: 8093), CEO - $5,208.33\n",
      "Patrick (ID: 2214), Sales - $3,625.00\n",
      "Gloria (ID: 4414), Designer - $3,291.67\n",
      "Joseph (ID: 9427), Sales - $3,791.67\n",
      "Barbara (ID: 5967), Engineer - $5,333.33\n"
     ]
    }
   ],
   "source": [
    "# Path to my directory\n",
    "file_path = \"../assignment_files/hr_system.txt\"\n",
    "hr_files = file_path\n",
    "\n",
    "with open(hr_files) as employees:\n",
    "    for employee in employees:\n",
    "        new_employee = employee.strip()\n",
    "        employee_info = new_employee.split()\n",
    "        \n",
    "        name = employee_info[0]\n",
    "        id_number = employee_info[1]\n",
    "        job_title = employee_info[2]\n",
    "        salary = float(employee_info[3])\n",
    "        \n",
    "        paycheck = salary / 24\n",
    "        \n",
    "        if job_title.lower() == \"engineer\":\n",
    "            paycheck += 1000\n",
    "        \n",
    "        output = f\"{name} (ID: {id_number}), {job_title} - ${paycheck:,.2f}\"\n",
    "        print(output)"
   ]
  },
  {
   "cell_type": "code",
   "execution_count": 5,
   "id": "b9a97d26",
   "metadata": {},
   "outputs": [
    {
     "name": "stdout",
     "output_type": "stream",
     "text": [
      "(1326, 'Ahmad', 'Tester', 85000.0, 3541.6666666666665, 0)\n",
      "(1423, 'Antonio', 'Tester', 51000.0, 2125.0, 0)\n",
      "(1518, 'Isaiah', 'Designer', 58000.0, 2416.6666666666665, 0)\n",
      "(1913, 'Alexia', 'Engineer', 84000.0, 4500.0, 1000)\n",
      "(2019, 'Ciaran', 'Engineer', 62000.0, 3583.3333333333335, 1000)\n",
      "(2214, 'Patrick', 'Sales', 87000.0, 3625.0, 0)\n",
      "(3437, 'Sophie', 'Engineer', 109000.0, 5541.666666666667, 1000)\n",
      "(4266, 'Herman', 'Manager', 106000.0, 4416.666666666667, 0)\n",
      "(4414, 'Gloria', 'Designer', 79000.0, 3291.6666666666665, 0)\n",
      "(4542, 'Kaitlyn', 'Support', 63000.0, 2625.0, 0)\n",
      "(4802, 'Samantha', 'Tester', 80000.0, 3333.3333333333335, 0)\n",
      "(5575, 'May', 'CFO', 112000.0, 4666.666666666667, 0)\n",
      "(5849, 'Jay', 'Engineer', 93000.0, 4875.0, 1000)\n",
      "(5967, 'Barbara', 'Engineer', 104000.0, 5333.333333333333, 1000)\n",
      "(7364, 'William', 'Tester', 74000.0, 3083.3333333333335, 0)\n",
      "(7378, 'Sebastian', 'Scientist', 102000.0, 4250.0, 0)\n",
      "(8005, 'Callum', 'Engineer', 73000.0, 4041.6666666666665, 1000)\n",
      "(8093, 'Aimee', 'CEO', 125000.0, 5208.333333333333, 0)\n",
      "(9427, 'Joseph', 'Sales', 91000.0, 3791.6666666666665, 0)\n"
     ]
    }
   ],
   "source": [
    "# Path to my directory\n",
    "file_path = \"../assignment_files/hr_system.txt\"\n",
    "hr_files = file_path\n",
    "files = []\n",
    "bonus = 0\n",
    "with open(hr_files) as employees:\n",
    "    for employee in employees:\n",
    "        new_employee = employee.strip()\n",
    "        employee_info = new_employee.split()\n",
    "        \n",
    "        \n",
    "        name = employee_info[0]\n",
    "        id_number = int(employee_info[1])\n",
    "        job_title = employee_info[2]\n",
    "        salary = float(employee_info[3])\n",
    "        \n",
    "        paycheck = (salary / 24)\n",
    "        \n",
    "        if job_title.lower() == \"engineer\":\n",
    "            paycheck += 1000\n",
    "            bonus = 1000\n",
    "        else:\n",
    "            bonus = 0\n",
    "        \n",
    "        output = f\"{id_number:<5}{name:<10}{job_title:<10}${paycheck:,.2f}\"\n",
    "        list = id_number, name, job_title, salary, paycheck, bonus\n",
    "        files.append(list)\n",
    "#         print(output)\n",
    "# print(files)\n",
    "\n",
    "files.sort(key=lambda x: x[0])\n",
    "\n",
    "for item in files:\n",
    "    print(item )"
   ]
  },
  {
   "cell_type": "code",
   "execution_count": null,
   "id": "4431d6dd",
   "metadata": {},
   "outputs": [],
   "source": []
  },
  {
   "cell_type": "code",
   "execution_count": null,
   "id": "d8d9cdc2",
   "metadata": {},
   "outputs": [],
   "source": []
  }
 ],
 "metadata": {
  "kernelspec": {
   "display_name": "Python 3 (ipykernel)",
   "language": "python",
   "name": "python3"
  },
  "language_info": {
   "codemirror_mode": {
    "name": "ipython",
    "version": 3
   },
   "file_extension": ".py",
   "mimetype": "text/x-python",
   "name": "python",
   "nbconvert_exporter": "python",
   "pygments_lexer": "ipython3",
   "version": "3.9.7"
  }
 },
 "nbformat": 4,
 "nbformat_minor": 5
}
