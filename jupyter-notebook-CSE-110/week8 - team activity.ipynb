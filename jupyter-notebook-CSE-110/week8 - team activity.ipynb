{
 "cells": [
  {
   "cell_type": "markdown",
   "id": "1005aa9f",
   "metadata": {},
   "source": [
    "# Week 8: Team Activity\n",
    "## Loops of Loops\n",
    "\n",
    "### CORE REQUIREMENTS\n",
    "01. Ask the user for the number of rows and columns (note: you are only asking for a single number that will be used for both the rows and the columns).  \n",
    "\n",
    "    Display the numbers 1 up to and including that number, each on their own line at this point.</p>\n",
    "\n",
    "02. Change the program so that the numbers are printed on the same line with a space between them.\n",
    "\n",
    "03. You now have code that can print out each column you'll need on a line. Now, you need to repeat it for a second line, and a third line, and so forth up until the number of rows that you need.\n",
    "\n",
    "    To accomplish this, add another loop for each row that has your previous code as its body. Start by simply having it duplicate the same row over and over again. Keep in mind that you'll need to display a newline after the numbers for each row are finished.  \n",
    "\n",
    "    Then, once this is working change it to display the product of the row and column."
   ]
  },
  {
   "cell_type": "code",
   "execution_count": 2,
   "id": "97f2ff58",
   "metadata": {},
   "outputs": [
    {
     "name": "stdout",
     "output_type": "stream",
     "text": [
      "How many columns and rows do you want in your multiplication table?  5\n",
      "1\n",
      "2\n",
      "3\n",
      "4\n",
      "5\n"
     ]
    }
   ],
   "source": [
    "# Core Requirement 01\n",
    "size = int(input(\"How many columns and rows do you want in your multiplication table?  \"))\n",
    "\n",
    "for matrix in range(1, size + 1):\n",
    "    print(matrix)\n"
   ]
  },
  {
   "cell_type": "code",
   "execution_count": 4,
   "id": "e80576e3",
   "metadata": {},
   "outputs": [
    {
     "name": "stdout",
     "output_type": "stream",
     "text": [
      "How many columns and rows do you want in your multiplication table?  5\n",
      "  1  2  3  4  5"
     ]
    }
   ],
   "source": [
    "# Core Requirement 02\n",
    "size = int(input(\"How many columns and rows do you want in your multiplication table?  \"))\n",
    "\n",
    "for matrix in range(1, size + 1):\n",
    "    m = f\"{matrix:3}\"\n",
    "    print(m, end='')"
   ]
  },
  {
   "cell_type": "code",
   "execution_count": 41,
   "id": "5aad8667",
   "metadata": {},
   "outputs": [
    {
     "name": "stdout",
     "output_type": "stream",
     "text": [
      "How many columns and rows do you want in your multiplication table?  8\n",
      "\n",
      "   1   2   3   4   5   6   7   8\n",
      "   2   4   6   8  10  12  14  16\n",
      "   3   6   9  12  15  18  21  24\n",
      "   4   8  12  16  20  24  28  32\n",
      "   5  10  15  20  25  30  35  40"
     ]
    }
   ],
   "source": [
    "# Core Requirement 03\n",
    "size = int(input(\"How many columns and rows do you want in your multiplication table?  \"))\n",
    "print()\n",
    "for matrix in range(1, size + 1):\n",
    "    m = (f\"{matrix:4}\")\n",
    "    print(m, end=\"\")\n",
    "print()\n",
    "for mx2 in range(1, size + 1):\n",
    "    m2 = f\"{mx2 * 2: 4}\"\n",
    "    print(m2, end=\"\")\n",
    "print()\n",
    "for mx3 in range(1, size + 1):\n",
    "    m3 = f\"{mx3 * 3: 4}\"\n",
    "    print(m3, end=\"\")\n",
    "print()\n",
    "for mx4 in range(1, size + 1):\n",
    "    m4 = f\"{mx4 * 4: 4}\"\n",
    "    print(m4, end=\"\")\n",
    "print()\n",
    "for mx5 in range(1, size + 1):\n",
    "    m5 = f\"{mx5 * 5: 4}\"\n",
    "    print(m5, end=\"\")\n",
    "\n"
   ]
  },
  {
   "cell_type": "code",
   "execution_count": 69,
   "id": "d0d2aeac",
   "metadata": {},
   "outputs": [
    {
     "name": "stdout",
     "output_type": "stream",
     "text": [
      "How many columns and rows do you want in your multiplication table?  8\n",
      "\n",
      "\n",
      "   1   2   3   4   5   6   7   8\n",
      "   2   4   6   8  10  12  14  16\n",
      "   3   6   9  12  15  18  21  24\n",
      "   4   8  12  16  20  24  28  32\n",
      "   5  10  15  20  25  30  35  40\n",
      "   6  12  18  24  30  36  42  48\n",
      "   7  14  21  28  35  42  49  56\n",
      "   8  16  24  32  40  48  56  64"
     ]
    }
   ],
   "source": [
    "# Core Requirement 03\n",
    "size = int(input(\"How many columns and rows do you want in your multiplication table?  \"))\n",
    "print()\n",
    "for m in range(1, size + 1):\n",
    "    print()\n",
    "    for x in range (1, size + 1):\n",
    "        l=(f\"{m * x: 4}\")\n",
    "        print(l, end=\"\")\n"
   ]
  },
  {
   "cell_type": "code",
   "execution_count": null,
   "id": "3231d8be",
   "metadata": {},
   "outputs": [],
   "source": []
  }
 ],
 "metadata": {
  "kernelspec": {
   "display_name": "Python 3 (ipykernel)",
   "language": "python",
   "name": "python3"
  },
  "language_info": {
   "codemirror_mode": {
    "name": "ipython",
    "version": 3
   },
   "file_extension": ".py",
   "mimetype": "text/x-python",
   "name": "python",
   "nbconvert_exporter": "python",
   "pygments_lexer": "ipython3",
   "version": "3.9.7"
  }
 },
 "nbformat": 4,
 "nbformat_minor": 5
}
