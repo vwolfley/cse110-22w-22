{
 "cells": [
  {
   "cell_type": "markdown",
   "metadata": {},
   "source": [
    "# Week 12 Prepare\n",
    "\n",
    "## Assignment\n",
    "Write a program to find the youngest person in the list.\n",
    "\n",
    "Consider following these steps to build up to the finished program:\n",
    "\n",
    "01. Iterate through the list and display each string to the screen.\n",
    "\n",
    "02. Split the string into a name and age and print them to the screen.\n",
    "\n",
    "03. Find the age that is the youngest.\n",
    "\n",
    "04. Keep track of the name of the person that is the youngest.\n"
   ]
  },
  {
   "cell_type": "markdown",
   "metadata": {},
   "source": [
    "### Assignment Task 1"
   ]
  },
  {
   "cell_type": "code",
   "execution_count": 1,
   "metadata": {},
   "outputs": [
    {
     "name": "stdout",
     "output_type": "stream",
     "text": [
      "Stephanie 36\n",
      "John 29\n",
      "Emily 24\n",
      "Gretchen 54\n",
      "Noah 12\n",
      "Penelope 32\n",
      "Michael 2\n",
      "Jacob 10\n"
     ]
    }
   ],
   "source": [
    "#####\n",
    "# Date: 2022-03-15\n",
    "# Week 12 Prepare: work with lists\n",
    "# File: week12-prepare.py\n",
    "# Author: Vern Wolfley\n",
    "# Purpose: Practice finding items in lists.\n",
    "#####\n",
    "\n",
    "people = [\n",
    "    \"Stephanie 36\",\n",
    "    \"John 29\",\n",
    "    \"Emily 24\",\n",
    "    \"Gretchen 54\",\n",
    "    \"Noah 12\",\n",
    "    \"Penelope 32\",\n",
    "    \"Michael 2\",\n",
    "    \"Jacob 10\"\n",
    "]\n",
    "\n",
    "for row in people:\n",
    "    print(row)"
   ]
  },
  {
   "cell_type": "markdown",
   "metadata": {},
   "source": [
    "### Assignment Task 2"
   ]
  },
  {
   "cell_type": "code",
   "execution_count": 8,
   "metadata": {},
   "outputs": [
    {
     "name": "stdout",
     "output_type": "stream",
     "text": [
      "Name: Stephanie  Age: 36\n",
      "Name: John       Age: 29\n",
      "Name: Emily      Age: 24\n",
      "Name: Gretchen   Age: 54\n",
      "Name: Noah       Age: 12\n",
      "Name: Penelope   Age: 32\n",
      "Name: Michael    Age: 2\n",
      "Name: Jacob      Age: 10\n"
     ]
    }
   ],
   "source": [
    "#####\n",
    "# Date: 2022-03-15\n",
    "# Week 12 Prepare: work with lists\n",
    "# File: week12-prepare.py\n",
    "# Author: Vern Wolfley\n",
    "# Purpose: Practice finding items in lists.\n",
    "#####\n",
    "\n",
    "people = [\n",
    "    \"Stephanie 36\",\n",
    "    \"John 29\",\n",
    "    \"Emily 24\",\n",
    "    \"Gretchen 54\",\n",
    "    \"Noah 12\",\n",
    "    \"Penelope 32\",\n",
    "    \"Michael 2\",\n",
    "    \"Jacob 10\"\n",
    "]\n",
    "\n",
    "for row in people:\n",
    "    info = row.split()\n",
    "\n",
    "    name = info[0]\n",
    "    age = info[1]\n",
    "\n",
    "    print(f\"Name: {name:<10} Age: {age}\")"
   ]
  },
  {
   "cell_type": "markdown",
   "metadata": {},
   "source": [
    "### Assignment Task 3"
   ]
  },
  {
   "cell_type": "code",
   "execution_count": 15,
   "metadata": {},
   "outputs": [
    {
     "name": "stdout",
     "output_type": "stream",
     "text": [
      "Name: Stephanie  Age: 36\n",
      "Name: John       Age: 29\n",
      "Name: Emily      Age: 24\n",
      "Name: Gretchen   Age: 54\n",
      "Name: Noah       Age: 12\n",
      "Name: Penelope   Age: 32\n",
      "Name: Michael    Age: 2\n",
      "Name: Jacob      Age: 10\n",
      "\n",
      "*** Gretchen is the oldest person in this list at Age: 54. ***\n",
      "\n",
      "*** Michael is the youngest person in this list at Age: 2. ***\n"
     ]
    }
   ],
   "source": [
    "#####\n",
    "# Date: 2022-03-15\n",
    "# Week 12 Prepare: work with lists\n",
    "# File: week12-prepare.py\n",
    "# Author: Vern Wolfley\n",
    "# Purpose: Practice finding items in lists.\n",
    "#####\n",
    "\n",
    "people = [\n",
    "    \"Stephanie 36\",\n",
    "    \"John 29\",\n",
    "    \"Emily 24\",\n",
    "    \"Gretchen 54\",\n",
    "    \"Noah 12\",\n",
    "    \"Penelope 32\",\n",
    "    \"Michael 2\",\n",
    "    \"Jacob 10\"\n",
    "]\n",
    "\n",
    "max_age = 0\n",
    "max_name = None\n",
    "\n",
    "min_age = 1000\n",
    "min_name = None\n",
    "\n",
    "for row in people:\n",
    "    info = row.split()\n",
    "\n",
    "    name = info[0]\n",
    "    age = int(info[1])\n",
    "\n",
    "    print(f\"Name: {name:<10} Age: {age}\")\n",
    "\n",
    "    if age > max_age:\n",
    "        max_age = age\n",
    "        max_name = name\n",
    "    if age < min_age:\n",
    "        min_age = age\n",
    "        min_name = name\n",
    "\n",
    "max = f'''\\n*** {max_name} is the oldest person in this list at Age: {max_age}. ***'''\n",
    "print(max)\n",
    "\n",
    "min = f'''\\n*** {min_name} is the youngest person in this list at Age: {min_age}. ***'''\n",
    "print(min)\n"
   ]
  }
 ],
 "metadata": {
  "interpreter": {
   "hash": "40d3a090f54c6569ab1632332b64b2c03c39dcf918b08424e98f38b5ae0af88f"
  },
  "kernelspec": {
   "display_name": "Python 3.9.7 ('base')",
   "language": "python",
   "name": "python3"
  },
  "language_info": {
   "codemirror_mode": {
    "name": "ipython",
    "version": 3
   },
   "file_extension": ".py",
   "mimetype": "text/x-python",
   "name": "python",
   "nbconvert_exporter": "python",
   "pygments_lexer": "ipython3",
   "version": "3.9.7"
  },
  "orig_nbformat": 4
 },
 "nbformat": 4,
 "nbformat_minor": 2
}
