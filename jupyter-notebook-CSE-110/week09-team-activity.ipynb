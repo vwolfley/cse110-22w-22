{
 "cells": [
  {
   "cell_type": "markdown",
   "id": "c2fc9c32",
   "metadata": {},
   "source": [
    "# Week 09 - Team Activity\n",
    "## Lists of Numbers\n",
    "\n",
    "## Assignment\n",
    "Ask the user for a series of numbers, and append each one to a list. Stop when they enter 0.\n",
    "\n",
    "### 01 Core Requirements\n",
    "\n",
    "01. Compute the sum, or total, of the numbers in the list.\n",
    "\n",
    "02. Compute the average of the numbers in the list.\n",
    "\n",
    "03. Find the maximum, or largest, number in the list."
   ]
  },
  {
   "cell_type": "code",
   "execution_count": 4,
   "id": "62e5092d",
   "metadata": {},
   "outputs": [
    {
     "name": "stdout",
     "output_type": "stream",
     "text": [
      "Enter a list of numbers, type 0 when finished.\n",
      "Enter number: 1\n",
      "Enter number: 2\n",
      "Enter number: 3\n",
      "Enter number: 4\n",
      "Enter number: 5\n",
      "Enter number: 0\n",
      "Your numbers are: \n",
      "1\n",
      "2\n",
      "3\n",
      "4\n",
      "5\n",
      "Their sum is: 15\n",
      "Their average is: 3.0\n",
      "Their largest number is: 5\n",
      "Their smallest number is: 1\n"
     ]
    }
   ],
   "source": [
    "## Fist Method\n",
    "\n",
    "numbers = []\n",
    "\n",
    "print(\"Enter a list of numbers, type 0 when finished.\")\n",
    "number = None\n",
    "while number != 0:\n",
    "    number = int(input(\"Enter number: \"))\n",
    "    if number != 0:\n",
    "        numbers.append(number)  \n",
    "\n",
    "print(f\"Your numbers are: \")\n",
    "\n",
    "for number in numbers:       \n",
    "    print(number)\n",
    "\n",
    "sum_numbers = sum(numbers)\n",
    "print(f\"Their sum is: {sum_numbers}\")\n",
    "\n",
    "avg_numbers = sum(numbers)/len(numbers)\n",
    "print(f\"Their average is: {avg_numbers}\")\n",
    "\n",
    "max_numbers = max(numbers)\n",
    "print(f\"Their largest number is: {max_numbers}\")\n",
    "\n",
    "min_numbers = min(numbers)\n",
    "print(f\"Their smallest number is: {min_numbers}\")"
   ]
  },
  {
   "cell_type": "code",
   "execution_count": 5,
   "id": "97d93db3",
   "metadata": {
    "scrolled": true
   },
   "outputs": [
    {
     "name": "stdout",
     "output_type": "stream",
     "text": [
      "Enter a list of numbers, type 0 when finished.\n",
      "Enter number: 1\n",
      "Enter number: 2\n",
      "Enter number: 3\n",
      "Enter number: 4\n",
      "Enter number: 5\n",
      "Enter number: 0\n",
      "Your numbers are: \n",
      "1\n",
      "2\n",
      "3\n",
      "4\n",
      "5\n",
      "Their sum is: 15\n",
      "Their average is: 3\n",
      "Their largest number is: 5\n",
      "Their smallest number is: 1\n"
     ]
    }
   ],
   "source": [
    "## Second Method\n",
    "\n",
    "from statistics import mean\n",
    "\n",
    "numbers = []\n",
    "\n",
    "print(\"Enter a list of numbers, type 0 when finished.\")\n",
    "number = None\n",
    "while number != 0:\n",
    "    number = int(input(\"Enter number: \"))\n",
    "    if number != 0:\n",
    "        numbers.append(number)   \n",
    "\n",
    "print(f\"Your numbers are: \")\n",
    "\n",
    "for number in numbers:       \n",
    "    print(number)\n",
    "\n",
    "sum_numbers = sum(numbers)\n",
    "print(f\"Their sum is: {sum_numbers}\")\n",
    "\n",
    "avg_numbers = mean(numbers)\n",
    "print(f\"Their average is: {avg_numbers}\")\n",
    "\n",
    "max_numbers = max(numbers)\n",
    "print(f\"Their largest number is: {max_numbers}\")\n",
    "\n",
    "min_numbers = min(numbers)\n",
    "print(f\"Their smallest number is: {min_numbers}\")"
   ]
  },
  {
   "cell_type": "markdown",
   "id": "c3c7c094",
   "metadata": {},
   "source": [
    "### 01 Stretch Challenge\n",
    "01. Have the user enter both positive and negative numbers, then find the smallest positive number (the positive number that is closest to zero).\n",
    "\n",
    "02. Sort the numbers in the list and display the new, sorted list. Hint: There are python libraries that can help you here, try searching the internet for them."
   ]
  },
  {
   "cell_type": "code",
   "execution_count": 1,
   "id": "70e233ac",
   "metadata": {},
   "outputs": [
    {
     "name": "stdout",
     "output_type": "stream",
     "text": [
      "Enter a list of numbers, type 0 when finished.\n",
      "Enter number: -1\n",
      "Enter number: -9\n",
      "Enter number: 5\n",
      "Enter number: 10\n",
      "Enter number: 15\n",
      "Enter number: 0\n",
      "Your numbers are: \n",
      "-1\n",
      "-9\n",
      "5\n",
      "10\n",
      "15\n",
      "Their sum is: 20\n",
      "Their average is: 4.0\n",
      "Their largest number is: 15\n",
      "Their smallest number is: -9\n",
      "Their smallest positive number is: 5\n"
     ]
    }
   ],
   "source": [
    "## Stretch Challenge 01\n",
    "\n",
    "from statistics import mean\n",
    "\n",
    "numbers = []\n",
    "\n",
    "print(\"Enter a list of numbers, type 0 when finished.\")\n",
    "number = None\n",
    "while number != 0:\n",
    "    number = int(input(\"Enter number: \"))\n",
    "    if number != 0:\n",
    "        numbers.append(number)   \n",
    "\n",
    "print(f\"Your numbers are: \")\n",
    "\n",
    "for number in numbers:       \n",
    "    print(number)\n",
    "\n",
    "sum_numbers = sum(numbers)\n",
    "print(f\"Their sum is: {sum_numbers}\")\n",
    "\n",
    "avg_numbers = mean(numbers)\n",
    "print(f\"Their average is: {avg_numbers:.1f}\")\n",
    "\n",
    "max_numbers = max(numbers)\n",
    "print(f\"Their largest number is: {max_numbers}\")\n",
    "\n",
    "min_numbers = min(numbers)\n",
    "print(f\"Their smallest number is: {min_numbers}\")\n",
    "\n",
    "minPos_numbers = min([x for x in numbers if x > 0])\n",
    "print(f\"Their smallest positive number is: {minPos_numbers}\")"
   ]
  },
  {
   "cell_type": "code",
   "execution_count": 4,
   "id": "d0bbabf8",
   "metadata": {},
   "outputs": [
    {
     "name": "stdout",
     "output_type": "stream",
     "text": [
      "Enter a list of numbers, type 0 when finished.\n",
      "Enter number: -1\n",
      "Enter number: 2\n",
      "Enter number: 6\n",
      "Enter number: 7\n",
      "Enter number: -5\n",
      "Enter number: 4\n",
      "Enter number: 9\n",
      "Enter number: 0\n",
      "Your numbers are: \n",
      "-5\n",
      "-1\n",
      "2\n",
      "4\n",
      "6\n",
      "7\n",
      "9\n",
      "Their sum is: 22\n",
      "Their average is: 3.1\n",
      "Their largest number is: 9\n",
      "Their smallest number is: -5\n",
      "Their smallest positive number is: 2\n"
     ]
    }
   ],
   "source": [
    "## Stretch Challenge 02\n",
    "\n",
    "from statistics import mean\n",
    "\n",
    "numbers = []\n",
    "\n",
    "print(\"Enter a list of numbers, type 0 when finished.\")\n",
    "number = None\n",
    "while number != 0:\n",
    "    number = int(input(\"Enter number: \"))\n",
    "    if number != 0:\n",
    "        numbers.append(number)   \n",
    "\n",
    "print(f\"Your numbers are: \")\n",
    "\n",
    "numbers.sort()\n",
    "for number in numbers:       \n",
    "    print(number)\n",
    "\n",
    "sum_numbers = sum(numbers)\n",
    "print(f\"Their sum is: {sum_numbers}\")\n",
    "\n",
    "avg_numbers = mean(numbers)\n",
    "print(f\"Their average is: {avg_numbers:.1f}\")\n",
    "\n",
    "max_numbers = max(numbers)\n",
    "print(f\"Their largest number is: {max_numbers}\")\n",
    "\n",
    "min_numbers = min(numbers)\n",
    "print(f\"Their smallest number is: {min_numbers}\")\n",
    "\n",
    "minPos_numbers = min([x for x in numbers if x > 0])\n",
    "print(f\"Their smallest positive number is: {minPos_numbers}\")"
   ]
  },
  {
   "cell_type": "code",
   "execution_count": null,
   "id": "51584620",
   "metadata": {},
   "outputs": [],
   "source": []
  },
  {
   "cell_type": "code",
   "execution_count": null,
   "id": "5a2127de",
   "metadata": {},
   "outputs": [],
   "source": []
  }
 ],
 "metadata": {
  "kernelspec": {
   "display_name": "Python 3 (ipykernel)",
   "language": "python",
   "name": "python3"
  },
  "language_info": {
   "codemirror_mode": {
    "name": "ipython",
    "version": 3
   },
   "file_extension": ".py",
   "mimetype": "text/x-python",
   "name": "python",
   "nbconvert_exporter": "python",
   "pygments_lexer": "ipython3",
   "version": "3.9.7"
  }
 },
 "nbformat": 4,
 "nbformat_minor": 5
}
