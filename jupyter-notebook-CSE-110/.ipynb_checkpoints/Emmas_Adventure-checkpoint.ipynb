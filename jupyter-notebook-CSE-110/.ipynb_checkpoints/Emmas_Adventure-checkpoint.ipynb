{
 "cells": [
  {
   "cell_type": "code",
   "execution_count": 7,
   "id": "28dbd90b",
   "metadata": {},
   "outputs": [
    {
     "name": "stdout",
     "output_type": "stream",
     "text": [
      "Welcome, royal game player! What is your name? thor\n",
      "Today your noble adventure is to help our sweet princess go along her day! Please type in one of the presented options in order to help the princess have a great day. The best of luck to you, thor!\n",
      "--------------------------------------------------------------------\n",
      "Today, the fair princess is going to visit her friend in a nearby castle. Does she decided to take the CARRIAGE, or WALK to see her friend? carriage\n",
      "The carriage wheels splatter mud on her dress! Does she decided to GO BACK HOME, or GO ON? go back home\n",
      "GO BACK HOME\n",
      "Hmmm, lets try again.\n"
     ]
    }
   ],
   "source": [
    "#Results as variables\n",
    "#TAKING CARRIAGE\n",
    "answer1 = ['CARRIAGE']\n",
    "scenario_1a = 'The carriage wheels splatter mud on her dress! Does she decided to GO BACK HOME, or GO ON? '\n",
    "answer3 = ['GO BACK HOME']\n",
    "answer4 = ['GO ON']\n",
    "    #chooses go back home\n",
    "scenario_1aa = 'She gets home and changes her dress. Then, does she START TRIP OVER, WRITE TO HER FRIEND, or HAVE TEA?'\n",
    "scenario_1aa_start = 'After a long day, she eventually makes it to her friends house for a lovely visit.'\n",
    "scenario_1aa_note = 'Her friend receives her letter, and they reschedule for another day.'\n",
    "scenario_1aa_tea = 'The princess finishes her tea and decides to get some homework done with her extra time.'\n",
    "answer5 = ['START TRIP OVER']\n",
    "answer6 = ['WRITE TO HER FRIEND']\n",
    "answer7 = ['HAVE TEA']\n",
    "    #chooses to continue on\n",
    "scenario_1ab = 'She gets in the carriage and makes herself comfortable. Does she ask the driver to SPEED UP or SLOW DOWN?'\n",
    "scenario_1ab_speed = 'The carriage wheels bump quickly along the road, but hit a rock and break! A prince on a passing horse offers her a ride and they gallop into the sun.'\n",
    "scenario_1ab_slow = 'Slow and steady wins the race! The princess arrives safely at her friends house for the visit.'\n",
    "answer8 = ['SPEED UP']\n",
    "answer9 = ['SLOW DOWN']\n",
    "#----------------------------------\n",
    "#WALKING\n",
    "answer2 = ['WALK']\n",
    "scenario_2a = 'She starts on her walk, but it begins to rain. Does she WAIT in a bakery, or SHARE UMBRELLA with a young man?'\n",
    "answer10 = ['WAIT']\n",
    "answer11 = ['SHARE UMBRELLA']\n",
    "    #chooses to wait in bakery\n",
    "scenario_2aa = 'She meets a witch in the bakery. The witch offers her a magic treat. Does she EAT the treat, or NOT EAT?'\n",
    "scenario_2aa_eat = 'She eats the treat and starts to feel funny. She falls fast asleep under a spell.'\n",
    "scenario_2aa_not_eat = 'It was a delicious brownie. The princess buys more from the witch. The the rain stops, and she brings the brownies to share with her friend.'\n",
    "answer12 = ['EAT']\n",
    "answer13 = ['NOT EAT']\n",
    "    #chooses to share umbrella\n",
    "scenario_2bb = 'The princess and the young man are walking together through the rain. They come across an old troll. She offers them two potions to drink. Does the princess drink the RED or BLUE potion?'\n",
    "scenario_2bb_red = 'The red potion is a love potion! The princess falls in love with the prince and they live happily ever after.'\n",
    "scenario_2bb_blue = 'The blue potion is magical! The priness suddenly grows fairy wings. She excitedly flies to her friends house.'\n",
    "answer14 = ['RED']\n",
    "answer15 = ['BLUE']\n",
    "#------------------------------------------------------------------------------\n",
    "player_name = input('Welcome, royal game player! What is your name? ')\n",
    "print(f'Today your noble adventure is to help our sweet princess go along her day! Please type in one of the presented options in order to help the princess have a great day. The best of luck to you, {player_name}!')\n",
    "print('--------------------------------------------------------------------')\n",
    "story_beginning = input('Today, the fair princess is going to visit her friend in a nearby castle. Does she decided to take the CARRIAGE, or WALK to see her friend? ')\n",
    "if story_beginning.upper() in answer1:\n",
    "    choice = input(scenario_1a).upper()\n",
    "    print(choice)\n",
    "    if choice in answer3:\n",
    "        input(scenario_1aa).upper()\n",
    "    elif scenario_1a in answer4:\n",
    "        input(scenario_1ab)\n",
    "    else: \n",
    "        print('Hmmm, lets try again.')\n",
    "# if story_beginning.upper() in answer2:\n",
    "#     input(scenario_2a)\n",
    "#     if scenario_2a.upper() in answer10:\n",
    "#         input(scenario_2aa)\n",
    "#     else scenario_2a.upper() in answer11:\n",
    "#         input(scenario_2bb)"
   ]
  },
  {
   "cell_type": "code",
   "execution_count": null,
   "id": "75c8fa0b",
   "metadata": {},
   "outputs": [],
   "source": []
  }
 ],
 "metadata": {
  "kernelspec": {
   "display_name": "Python 3 (ipykernel)",
   "language": "python",
   "name": "python3"
  },
  "language_info": {
   "codemirror_mode": {
    "name": "ipython",
    "version": 3
   },
   "file_extension": ".py",
   "mimetype": "text/x-python",
   "name": "python",
   "nbconvert_exporter": "python",
   "pygments_lexer": "ipython3",
   "version": "3.9.7"
  }
 },
 "nbformat": 4,
 "nbformat_minor": 5
}
