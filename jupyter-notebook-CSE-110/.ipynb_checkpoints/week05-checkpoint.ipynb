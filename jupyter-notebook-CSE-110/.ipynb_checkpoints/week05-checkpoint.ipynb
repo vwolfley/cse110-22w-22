{
 "cells": [
  {
   "cell_type": "markdown",
   "id": "b294f864",
   "metadata": {},
   "source": [
    "# CSE 110 Week 5"
   ]
  },
  {
   "cell_type": "markdown",
   "id": "0ac12246",
   "metadata": {},
   "source": [
    "## 05 Prepare: Checkpoint\n",
    "### Practicing If Statements"
   ]
  },
  {
   "cell_type": "markdown",
   "id": "e6aedf29",
   "metadata": {},
   "source": [
    "### COMPARING NUMBERS\n",
    "Write a program that asks the user for two integers.\n",
    "\n",
    "Then, write three separate if/else statements as follows:\n",
    "\n",
    "If the first number is greater than the second, print \"The first number is greater\". Otherwise, print \"The first number is not greater\".\n",
    "\n",
    "If the two numbers are equal print \"The numbers are equal\". Otherwise, print \"The numbers are not equal\".\n",
    "\n",
    "If the second number is greater than the first, print \"The second number is greater\". Otherwise, print \"The second number is not greater\".\n"
   ]
  },
  {
   "cell_type": "code",
   "execution_count": 9,
   "id": "71840399",
   "metadata": {},
   "outputs": [
    {
     "name": "stdout",
     "output_type": "stream",
     "text": [
      "Pick a number between 1 and 10: 3\n",
      "Pick another number between 1 and 10: 3\n",
      "The first number is not greater!\n",
      "The numbers are equal!\n",
      "The second number is not greater!\n"
     ]
    }
   ],
   "source": [
    "num1 = int(input(\"Pick a number between 1 and 10: \"))\n",
    "num2 = int(input(\"Pick another number between 1 and 10: \"))\n",
    "\n",
    "if num1 > num2:\n",
    "    print(\"The first number is greater!\")\n",
    "else:\n",
    "    print(\"The first number is not greater!\")\n",
    "\n",
    "if num1 == num2:\n",
    "    print(\"The numbers are equal!\")\n",
    "else:\n",
    "    print(\"The numbers are not equal!\")\n",
    "    \n",
    "if num1 < num2:\n",
    "    print(\"The second number is greater!\")\n",
    "else:\n",
    "    print(\"The second number is not greater!\")\n"
   ]
  },
  {
   "cell_type": "markdown",
   "id": "ea326d46",
   "metadata": {},
   "source": [
    "### COMPARING STRINGS\n",
    "Have the program ask the user for their favorite animal. Then write an if statement as follows:\n",
    "\n",
    "Check to see if the user's favorite animal is the same as your favorite animal (meaning you, the programmer). If it is, print \"That's my favorite animal too!\" If it's not, print \"That one is not my favorite.\" Verify that it works regardless of the capitalization."
   ]
  },
  {
   "cell_type": "code",
   "execution_count": 8,
   "id": "f3b0df23",
   "metadata": {},
   "outputs": [
    {
     "name": "stdout",
     "output_type": "stream",
     "text": [
      "What is your favorite animal?  DOG\n",
      "That is my favorite animal too!\n"
     ]
    }
   ],
   "source": [
    "animal = input(\"What is your favorite animal?  \")\n",
    "my_fav = \"dog\"\n",
    "\n",
    "if animal.lower() != my_fav:\n",
    "    print(\"That one is not my favorite animal.\")\n",
    "else:\n",
    "    print(\"That is my favorite animal too!\")"
   ]
  },
  {
   "cell_type": "markdown",
   "id": "25dc647c",
   "metadata": {},
   "source": [
    "## 05 Teach: Team Activity\n",
    "### Grade Calculator\n",
    "Write a program that determines the letter grade for a course according to the following scale:\n",
    "\n",
    "A >= 90\n",
    "\n",
    "B >= 80\n",
    "\n",
    "C >= 70\n",
    "\n",
    "D >= 60\n",
    "\n",
    "F < 60\n",
    "### I. CORE REQUIREMENTS\n",
    "01. Ask the user for their grade percentage, then write a series of if-elif-else statements to print out the appropriate letter grade. (At this point, you'll have a separate print statement for each grade letter in the appropriate block.)\n",
    "\n",
    "02. Assume that you must have at least a 70 to pass the class. After determining the letter grade and printing it out. Add a separate if statement to determine if the user passed the course, and if so display a message to congratulate them. If not, display a different message to encourage them for next time.\n",
    "\n",
    "03. Change your code from the first part, so that instead of printing the letter grade in the body of each if, elif, or else block, instead create a new variable called letter and then in each block, set this variable to the appropriate value. Finally, after the whole series of if-elif-else statements, have a single print statement that prints the letter grade once.\n"
   ]
  },
  {
   "cell_type": "code",
   "execution_count": 95,
   "id": "79eac475",
   "metadata": {},
   "outputs": [
    {
     "name": "stdout",
     "output_type": "stream",
     "text": [
      "What is your percentage grade?  56\n",
      "You earned an \"F\"\n",
      "Sorry, you did not pass.  Please try again.\n"
     ]
    }
   ],
   "source": [
    "user_grade = float(input(\"What is your percentage grade?  \"))\n",
    "\n",
    "# 01\n",
    "if user_grade >= 90:\n",
    "    print('You earned an \"A\"')\n",
    "elif user_grade >= 80:\n",
    "    print('You earned an \"B\"')\n",
    "elif user_grade >= 70:\n",
    "    print('You earned an \"C\"')\n",
    "elif user_grade >= 60:\n",
    "    print('You earned an \"D\"')\n",
    "else:\n",
    "    print('You earned an \"F\"')\n",
    "    \n",
    "# 02\n",
    "if user_grade >=70:\n",
    "    print(\"Congradulations you passed the course!\")\n",
    "else:\n",
    "    print(\"Sorry, you did not pass.  Please try again.\")\n",
    "    "
   ]
  },
  {
   "cell_type": "code",
   "execution_count": 32,
   "id": "80baa7c0",
   "metadata": {},
   "outputs": [
    {
     "name": "stdout",
     "output_type": "stream",
     "text": [
      "What is your percentage grade?  73.3\n",
      "You earned an C\n",
      "Congradulations you passed the course!\n"
     ]
    }
   ],
   "source": [
    "user_grade = int(input(\"What is your percentage grade?  \"))\n",
    "\n",
    "# 03\n",
    "if user_grade >= 90:\n",
    "    letter = \"A\"\n",
    "elif user_grade >= 80:\n",
    "    letter = \"B\"\n",
    "elif user_grade >= 70:\n",
    "    letter = \"C\"\n",
    "elif user_grade >= 60:\n",
    "    letter = \"D\"\n",
    "else:\n",
    "    letter = \"F\"\n",
    "print(f'You earned an {letter}')\n",
    "    \n",
    "# 02\n",
    "if user_grade >=70:\n",
    "    print(\"Congradulations you passed the course!\")\n",
    "else:\n",
    "    print(\"Sorry, you did not pass.  Please try again.\")\n",
    "    "
   ]
  },
  {
   "cell_type": "markdown",
   "id": "519152f6",
   "metadata": {},
   "source": [
    "### STRETCH CHALLENGE\n",
    "1. Add to your code the ability to include a \"+\" or \"-\" next to the letter grade, such as B+ or A-. For each grade, you'll know it is a \"+\" if the last digit is >= 7. You'll know it is a minus if the last digit is < 3 and otherwise it has no sign.\n",
    "\n",
    "After your logic to determine the grade letter, add another section to determine the sign. Save this sign into a variable. Then, display both the grade letter and the sign in one print statement.\n",
    "\n",
    "Hint: To get the last digit, you could divide the number by 10, and get the remainder. You might refer back to the preparation material for Lesson 03 to see the operators and find the one that does division and gives you the remainder.\n",
    "\n",
    "At this point, don't worry about the exceptional cases of A+, F+, or F-.\n",
    "\n",
    "2. Recognize that there is no A+ grade, only A and A-. Add some additional logic to your program to detect this case and handle it correctly.\n",
    "\n",
    "3. Similarly, recognize that there is no F+ or F- grades, only F. Add additional logic to your program to detect these cases and handle them correctly."
   ]
  },
  {
   "cell_type": "code",
   "execution_count": 104,
   "id": "e79d087a",
   "metadata": {},
   "outputs": [
    {
     "name": "stdout",
     "output_type": "stream",
     "text": [
      "What is your percentage grade?  21\n",
      "You earned an F-\n",
      "Sorry, you did not pass.  Please try again.\n"
     ]
    }
   ],
   "source": [
    "# User input\n",
    "user_grade = int(input(\"What is your percentage grade?  \"))\n",
    "\n",
    "# find value of first digit\n",
    "first = repr(user_grade)\n",
    "firstdigit = int(first[0])\n",
    "\n",
    "# find value of last digit\n",
    "last = repr(user_grade)\n",
    "lastdigit = int(last[-1])\n",
    "\n",
    "# Logic for grade eval\n",
    "if user_grade >= 90:\n",
    "    letter = \"A\"\n",
    "elif user_grade >= 80:\n",
    "    letter = \"B\"\n",
    "elif user_grade >= 70:\n",
    "    letter = \"C\"\n",
    "elif user_grade >= 60:\n",
    "    letter = \"D\"\n",
    "else:\n",
    "    letter = \"F\"\n",
    "\n",
    "# Logic for plus or minus grade\n",
    "if firstdigit >= 5 and lastdigit >= 7:\n",
    "    ext = \"+\"\n",
    "elif firstdigit >= 5 and lastdigit < 3:\n",
    "    ext = \"-\"\n",
    "elif firstdigit <= 4:\n",
    "    ext = \"-\"\n",
    "else:\n",
    "    ext =\"\"\n",
    "\n",
    "# Grade output\n",
    "print(f'You earned an {letter}{ext}')\n",
    "\n",
    "# Logic and output for passing grade\n",
    "if user_grade >=70:\n",
    "    print(\"Congradulations you passed the course!\")\n",
    "else:\n",
    "    print(\"Sorry, you did not pass.  Please try again.\")\n",
    "    \n",
    "\n",
    "# print(user_grade, lastdigit)"
   ]
  },
  {
   "cell_type": "code",
   "execution_count": 100,
   "id": "2c0084e2",
   "metadata": {},
   "outputs": [
    {
     "name": "stdout",
     "output_type": "stream",
     "text": [
      "92 9 2\n",
      "2\n"
     ]
    }
   ],
   "source": [
    "# TESTING\n",
    "user_grade = 92\n",
    "last = repr(user_grade)\n",
    "first = repr(user_grade)\n",
    "firstdigit = int(first[0])\n",
    "lastdigit = int(last[-1])\n",
    "print(user_grade, firstdigit, lastdigit)\n",
    "print(user_grade % 10)"
   ]
  },
  {
   "cell_type": "code",
   "execution_count": null,
   "id": "1d8d7230",
   "metadata": {},
   "outputs": [],
   "source": []
  }
 ],
 "metadata": {
  "kernelspec": {
   "display_name": "Python 3 (ipykernel)",
   "language": "python",
   "name": "python3"
  },
  "language_info": {
   "codemirror_mode": {
    "name": "ipython",
    "version": 3
   },
   "file_extension": ".py",
   "mimetype": "text/x-python",
   "name": "python",
   "nbconvert_exporter": "python",
   "pygments_lexer": "ipython3",
   "version": "3.9.7"
  }
 },
 "nbformat": 4,
 "nbformat_minor": 5
}
