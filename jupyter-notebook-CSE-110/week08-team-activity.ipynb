{
 "cells": [
  {
   "cell_type": "markdown",
   "id": "1005aa9f",
   "metadata": {},
   "source": [
    "# Week 8: Team Activity\n",
    "## Loops of Loops\n",
    "\n",
    "### CORE REQUIREMENTS\n",
    "01. Ask the user for the number of rows and columns (note: you are only asking for a single number that will be used for both the rows and the columns).  \n",
    "\n",
    "    Display the numbers 1 up to and including that number, each on their own line at this point.</p>\n",
    "\n",
    "02. Change the program so that the numbers are printed on the same line with a space between them.\n",
    "\n",
    "03. You now have code that can print out each column you'll need on a line. Now, you need to repeat it for a second line, and a third line, and so forth up until the number of rows that you need.\n",
    "\n",
    "    To accomplish this, add another loop for each row that has your previous code as its body. Start by simply having it duplicate the same row over and over again. Keep in mind that you'll need to display a newline after the numbers for each row are finished.  \n",
    "\n",
    "    Then, once this is working change it to display the product of the row and column."
   ]
  },
  {
   "cell_type": "code",
   "execution_count": 2,
   "id": "97f2ff58",
   "metadata": {},
   "outputs": [
    {
     "name": "stdout",
     "output_type": "stream",
     "text": [
      "How many columns and rows do you want in your multiplication table?  5\n",
      "1\n",
      "2\n",
      "3\n",
      "4\n",
      "5\n"
     ]
    }
   ],
   "source": [
    "# Core Requirement 01\n",
    "size = int(input(\"How many columns and rows do you want in your multiplication table?  \"))\n",
    "\n",
    "for matrix in range(1, size + 1):\n",
    "    print(matrix)\n"
   ]
  },
  {
   "cell_type": "code",
   "execution_count": 3,
   "id": "e80576e3",
   "metadata": {},
   "outputs": [
    {
     "name": "stdout",
     "output_type": "stream",
     "text": [
      "How many columns and rows do you want in your multiplication table?  5\n",
      "  1  2  3  4  5"
     ]
    }
   ],
   "source": [
    "# Core Requirement 02\n",
    "size = int(input(\"How many columns and rows do you want in your multiplication table?  \"))\n",
    "\n",
    "for matrix in range(1, size + 1):\n",
    "    m = f\"{matrix:3}\"\n",
    "    print(m, end='')"
   ]
  },
  {
   "cell_type": "code",
   "execution_count": 1,
   "id": "5aad8667",
   "metadata": {},
   "outputs": [
    {
     "name": "stdout",
     "output_type": "stream",
     "text": [
      "How many columns and rows do you want in your multiplication table?  8\n",
      "\n",
      "   1   2   3   4   5   6   7   8\n",
      "   2   4   6   8  10  12  14  16\n",
      "   3   6   9  12  15  18  21  24\n",
      "   4   8  12  16  20  24  28  32\n",
      "   5  10  15  20  25  30  35  40"
     ]
    }
   ],
   "source": [
    "# Core Requirement 03\n",
    "size = int(input(\"How many columns and rows do you want in your multiplication table?  \"))\n",
    "print()\n",
    "for matrix in range(1, size + 1):\n",
    "    m = (f\"{matrix:4}\")\n",
    "    print(m, end=\"\")\n",
    "print()\n",
    "for mx2 in range(1, size + 1):\n",
    "    m2 = f\"{mx2 * 2: 4}\"\n",
    "    print(m2, end=\"\")\n",
    "print()\n",
    "for mx3 in range(1, size + 1):\n",
    "    m3 = f\"{mx3 * 3: 4}\"\n",
    "    print(m3, end=\"\")\n",
    "print()\n",
    "for mx4 in range(1, size + 1):\n",
    "    m4 = f\"{mx4 * 4: 4}\"\n",
    "    print(m4, end=\"\")\n",
    "print()\n",
    "for mx5 in range(1, size + 1):\n",
    "    m5 = f\"{mx5 * 5: 4}\"\n",
    "    print(m5, end=\"\")\n",
    "\n"
   ]
  },
  {
   "cell_type": "code",
   "execution_count": 8,
   "id": "dc94667e",
   "metadata": {},
   "outputs": [
    {
     "name": "stdout",
     "output_type": "stream",
     "text": [
      "How many columns and rows do you want in your multiplication table?  20\n",
      "\n",
      "\n",
      "   1   2   3   4   5   6   7   8   9  10  11  12  13  14  15  16  17  18  19  20\n",
      "   2   4   6   8  10  12  14  16  18  20  22  24  26  28  30  32  34  36  38  40\n",
      "   3   6   9  12  15  18  21  24  27  30  33  36  39  42  45  48  51  54  57  60\n",
      "   4   8  12  16  20  24  28  32  36  40  44  48  52  56  60  64  68  72  76  80\n",
      "   5  10  15  20  25  30  35  40  45  50  55  60  65  70  75  80  85  90  95 100\n",
      "   6  12  18  24  30  36  42  48  54  60  66  72  78  84  90  96 102 108 114 120\n",
      "   7  14  21  28  35  42  49  56  63  70  77  84  91  98 105 112 119 126 133 140\n",
      "   8  16  24  32  40  48  56  64  72  80  88  96 104 112 120 128 136 144 152 160\n",
      "   9  18  27  36  45  54  63  72  81  90  99 108 117 126 135 144 153 162 171 180\n",
      "  10  20  30  40  50  60  70  80  90 100 110 120 130 140 150 160 170 180 190 200\n",
      "  11  22  33  44  55  66  77  88  99 110 121 132 143 154 165 176 187 198 209 220\n",
      "  12  24  36  48  60  72  84  96 108 120 132 144 156 168 180 192 204 216 228 240\n",
      "  13  26  39  52  65  78  91 104 117 130 143 156 169 182 195 208 221 234 247 260\n",
      "  14  28  42  56  70  84  98 112 126 140 154 168 182 196 210 224 238 252 266 280\n",
      "  15  30  45  60  75  90 105 120 135 150 165 180 195 210 225 240 255 270 285 300\n",
      "  16  32  48  64  80  96 112 128 144 160 176 192 208 224 240 256 272 288 304 320\n",
      "  17  34  51  68  85 102 119 136 153 170 187 204 221 238 255 272 289 306 323 340\n",
      "  18  36  54  72  90 108 126 144 162 180 198 216 234 252 270 288 306 324 342 360\n",
      "  19  38  57  76  95 114 133 152 171 190 209 228 247 266 285 304 323 342 361 380\n",
      "  20  40  60  80 100 120 140 160 180 200 220 240 260 280 300 320 340 360 380 400"
     ]
    }
   ],
   "source": [
    "##### Core Requirement 03\n",
    "size = int(input(\"How many columns and rows do you want in your multiplication table?  \"))\n",
    "print()\n",
    "for m in range(1, size + 1):\n",
    "    print()\n",
    "    for x in range (1, size + 1):\n",
    "        l=(f\"{m * x: 4}\")\n",
    "        print(l, end=\"\")\n"
   ]
  },
  {
   "cell_type": "code",
   "execution_count": null,
   "id": "3231d8be",
   "metadata": {},
   "outputs": [],
   "source": []
  }
 ],
 "metadata": {
  "kernelspec": {
   "display_name": "Python 3 (ipykernel)",
   "language": "python",
   "name": "python3"
  },
  "language_info": {
   "codemirror_mode": {
    "name": "ipython",
    "version": 3
   },
   "file_extension": ".py",
   "mimetype": "text/x-python",
   "name": "python",
   "nbconvert_exporter": "python",
   "pygments_lexer": "ipython3",
   "version": "3.9.7"
  }
 },
 "nbformat": 4,
 "nbformat_minor": 5
}
