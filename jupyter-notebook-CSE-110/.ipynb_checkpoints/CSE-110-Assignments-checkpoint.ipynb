{
 "cells": [
  {
   "cell_type": "markdown",
   "id": "155ac8c8",
   "metadata": {},
   "source": [
    "# Class Assignments for CSE-110"
   ]
  },
  {
   "cell_type": "markdown",
   "id": "9882a988",
   "metadata": {},
   "source": [
    "## Week 1 Assignments"
   ]
  },
  {
   "cell_type": "markdown",
   "id": "2b8c2ff6",
   "metadata": {},
   "source": [
    "### Hello World"
   ]
  },
  {
   "cell_type": "code",
   "execution_count": 1,
   "id": "da613645",
   "metadata": {
    "scrolled": true
   },
   "outputs": [
    {
     "name": "stdout",
     "output_type": "stream",
     "text": [
      "Hello World!\n"
     ]
    }
   ],
   "source": [
    "#####\n",
    "# Date: 2022-01-03\n",
    "# File: hello-world.py\n",
    "# Author: Vern Wolfley\n",
    "# Purpose: Display text on the screen\n",
    "#####\n",
    "\n",
    "print('Hello World!')"
   ]
  },
  {
   "cell_type": "markdown",
   "id": "3f0e4f5e",
   "metadata": {},
   "source": [
    "### Favorite Color"
   ]
  },
  {
   "cell_type": "code",
   "execution_count": 26,
   "id": "f2ab4cfe",
   "metadata": {
    "scrolled": true
   },
   "outputs": [
    {
     "name": "stdout",
     "output_type": "stream",
     "text": [
      "Please type your favorite color: blue\n",
      "Your favorite color is - blue!\n"
     ]
    }
   ],
   "source": [
    "# Basic\n",
    "\n",
    "name = input(\"Please type your favorite color: \")\n",
    "print(\"Your favorite color is -\", name + \"!\")"
   ]
  },
  {
   "cell_type": "code",
   "execution_count": 44,
   "id": "2656ac7f",
   "metadata": {},
   "outputs": [
    {
     "name": "stdout",
     "output_type": "stream",
     "text": [
      "Who am I working with today?\n",
      " - vern\n",
      "Hello Vern!\n",
      "Vern, what is your favorite color?\n",
      " - blue\n",
      "Blue, is a great color!\n",
      "My favorite color is Red.\n"
     ]
    }
   ],
   "source": [
    "# More Complicated\n",
    "import random\n",
    "\n",
    "print(\"Who am I working with today?\")\n",
    "userName = input(\" - \")\n",
    "print(\"Hello \" + userName.capitalize()+\"!\")\n",
    "print(userName.capitalize() + \", what is your favorite color?\")\n",
    "colorChoice = input(\" - \")\n",
    "print(colorChoice.capitalize() + \", is a great color!\")\n",
    "\n",
    "colorList = [\"Blue\", \"Green\", \"Pink\", \"Red\", \"Yellow\"]\n",
    "print(\"My favorite color is\", random.choice(colorList) + \".\")"
   ]
  },
  {
   "cell_type": "markdown",
   "id": "a45f3820",
   "metadata": {},
   "source": [
    "# Week 2 Assignments\n",
    "\n",
    "### Strings \"James Bond\""
   ]
  },
  {
   "cell_type": "code",
   "execution_count": 7,
   "id": "c54713a1",
   "metadata": {},
   "outputs": [
    {
     "name": "stdout",
     "output_type": "stream",
     "text": [
      "What is your first name?\n",
      " - jane\n",
      "What is your last name?\n",
      " - bond\n",
      "Your name is Bond, Jane Bond.\n"
     ]
    }
   ],
   "source": [
    "#####\n",
    "# Date: 2022-01-10\n",
    "# File: formatting_strings.py\n",
    "# Author: Vern Wolfley\n",
    "# Purpose: Display name like Bond, James Bond\n",
    "#####\n",
    "\n",
    "print(\"What is your first name?\")\n",
    "first_name = input(\" - \").capitalize()\n",
    "print(\"What is your last name?\")\n",
    "last_name = input(\" - \").capitalize()\n",
    "output = f\"Your name is {last_name}, {first_name} {last_name}.\"\n",
    "print(output)"
   ]
  },
  {
   "cell_type": "markdown",
   "id": "05a65ac7",
   "metadata": {},
   "source": [
    "### Programming Activity\n",
    "#### ID Badge Generator"
   ]
  },
  {
   "cell_type": "code",
   "execution_count": null,
   "id": "108bcfbb",
   "metadata": {},
   "outputs": [
    {
     "name": "stdout",
     "output_type": "stream",
     "text": [
      "Please enter the following information:\n"
     ]
    }
   ],
   "source": [
    "#####\n",
    "# Date: 2022-01-10\n",
    "# File: id-badge-build.py\n",
    "# Author: Vern Wolfley\n",
    "# Purpose: Create a properly formatted ID badge\n",
    "#####\n",
    "\n",
    "import re\n",
    "\n",
    "print(\"Please enter the following information:\")\n",
    "first_name = input(\"First Name: \")\n",
    "last_name = input(\"Last Name: \")\n",
    "email = input(\"Email Address: \")\n",
    "phone = input(\"Phone Number: \")\n",
    "job_title = input(\"Job Title: \")\n",
    "id_number = input(\"ID Number: \")\n",
    "\n",
    "phone_gen = '(%s) %s-%s' % tuple(re.findall(r'\\d{4}$|\\d{3}', phone))\n",
    "\n",
    "output = (f'''\n",
    "The ID Card is:\n",
    "-----------------------------------\n",
    "{last_name.upper()}, {first_name.capitalize()}\n",
    "{job_title.title()}\n",
    "ID: {id_number}\n",
    "\n",
    "{email}\n",
    "{phone_gen}\n",
    "-----------------------------------\n",
    "''')\n",
    "\n",
    "print(output)\n"
   ]
  },
  {
   "cell_type": "markdown",
   "id": "a377d286",
   "metadata": {},
   "source": [
    "### ID Badge Generator\n",
    "#### Stretch Challenge"
   ]
  },
  {
   "cell_type": "code",
   "execution_count": 41,
   "id": "675262dc",
   "metadata": {},
   "outputs": [
    {
     "name": "stdout",
     "output_type": "stream",
     "text": [
      "Please enter the following information:\n",
      "First Name: vern\n",
      "Last Name: wolfley\n",
      "Email Address: vwolfley@mail.com\n",
      "Phone Number: 602 1315566\n",
      "Job Title: Big boss\n",
      "ID Number: 12\n",
      "Hair Color: black\n",
      "Eye Color: blue\n",
      "What month did you start?: january\n",
      "Have you completed training? (yes/no): yes\n",
      "\n",
      "The ID Card is:\n",
      "-----------------------------------\n",
      "WOLFLEY, Vern\n",
      "Big Boss\n",
      "ID: 12\n",
      "\n",
      "vwolfley@mail.com\n",
      "(602) 131-5566\n",
      "\n",
      "Hair: Black         Eyes: Blue\n",
      "Month: January      Training: YES\n",
      "-----------------------------------\n",
      "\n"
     ]
    }
   ],
   "source": [
    "#####\n",
    "# Date: 2022-01-10\n",
    "# File: id-badge-build.py\n",
    "# Author: Vern Wolfley\n",
    "# Purpose: Create a properly formatted ID badge\n",
    "#####\n",
    "\n",
    "import re\n",
    "\n",
    "print(\"Please enter the following information:\")\n",
    "\n",
    "first_name = input(\"First Name: \").capitalize()\n",
    "last_name = input(\"Last Name: \").upper()\n",
    "email = input(\"Email Address: \").lower()\n",
    "phone = input(\"Phone Number: \")\n",
    "job_title = input(\"Job Title: \").title()\n",
    "id_number = input(\"ID Number: \")\n",
    "hair_color = input(\"Hair Color: \").capitalize()\n",
    "eye_color = input(\"Eye Color: \").capitalize()\n",
    "start_month = input(\"What month did you start?: \").capitalize()\n",
    "training = input(\"Have you completed training? (yes/no): \").upper()\n",
    "\n",
    "phone_gen = '(%s) %s-%s' % tuple(re.findall(r'\\d{4}$|\\d{3}', phone.zfill(10)))\n",
    "\n",
    "hair = (f\"Hair: {hair_color}\")\n",
    "eyes = (f\"Eyes: {eye_color}\")\n",
    "month = (f\"Month: {start_month}\")\n",
    "train = (f\"Training: {training}\")\n",
    "\n",
    "output = (f'''\n",
    "The ID Card is:\n",
    "-----------------------------------\n",
    "{last_name}, {first_name}\n",
    "{job_title}\n",
    "ID: {id_number}\n",
    "\n",
    "{email}\n",
    "{phone_gen}\n",
    "\n",
    "{hair:<20}{eyes}\n",
    "{month:<20}{train}\n",
    "-----------------------------------\n",
    "''')\n",
    "\n",
    "print(output)\n"
   ]
  },
  {
   "cell_type": "code",
   "execution_count": null,
   "id": "592da593",
   "metadata": {},
   "outputs": [],
   "source": []
  }
 ],
 "metadata": {
  "kernelspec": {
   "display_name": "Python 3 (ipykernel)",
   "language": "python",
   "name": "python3"
  },
  "language_info": {
   "codemirror_mode": {
    "name": "ipython",
    "version": 3
   },
   "file_extension": ".py",
   "mimetype": "text/x-python",
   "name": "python",
   "nbconvert_exporter": "python",
   "pygments_lexer": "ipython3",
   "version": "3.9.7"
  }
 },
 "nbformat": 4,
 "nbformat_minor": 5
}
