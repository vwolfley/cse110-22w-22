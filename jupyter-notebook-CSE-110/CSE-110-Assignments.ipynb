{
 "cells": [
  {
   "cell_type": "markdown",
   "id": "155ac8c8",
   "metadata": {},
   "source": [
    "# Class Assignments for CSE-110"
   ]
  },
  {
   "cell_type": "markdown",
   "id": "9882a988",
   "metadata": {
    "jp-MarkdownHeadingCollapsed": true,
    "tags": [
     "week1"
    ]
   },
   "source": [
    "## Week 1 Assignments"
   ]
  },
  {
   "cell_type": "markdown",
   "id": "2b8c2ff6",
   "metadata": {},
   "source": [
    "### Hello World"
   ]
  },
  {
   "cell_type": "code",
   "execution_count": 1,
   "id": "da613645",
   "metadata": {
    "scrolled": true
   },
   "outputs": [
    {
     "name": "stdout",
     "output_type": "stream",
     "text": [
      "Hello World!\n"
     ]
    }
   ],
   "source": [
    "#####\n",
    "# Date: 2022-01-03\n",
    "# File: hello-world.py\n",
    "# Author: Vern Wolfley\n",
    "# Purpose: Display text on the screen\n",
    "#####\n",
    "\n",
    "print('Hello World!')"
   ]
  },
  {
   "cell_type": "markdown",
   "id": "3f0e4f5e",
   "metadata": {},
   "source": [
    "### Favorite Color"
   ]
  },
  {
   "cell_type": "code",
   "execution_count": 26,
   "id": "f2ab4cfe",
   "metadata": {
    "scrolled": true
   },
   "outputs": [
    {
     "name": "stdout",
     "output_type": "stream",
     "text": [
      "Please type your favorite color: blue\n",
      "Your favorite color is - blue!\n"
     ]
    }
   ],
   "source": [
    "# Basic\n",
    "\n",
    "name = input(\"Please type your favorite color: \")\n",
    "print(\"Your favorite color is -\", name + \"!\")"
   ]
  },
  {
   "cell_type": "code",
   "execution_count": 44,
   "id": "2656ac7f",
   "metadata": {
    "scrolled": true
   },
   "outputs": [
    {
     "name": "stdout",
     "output_type": "stream",
     "text": [
      "Who am I working with today?\n",
      " - vern\n",
      "Hello Vern!\n",
      "Vern, what is your favorite color?\n",
      " - blue\n",
      "Blue, is a great color!\n",
      "My favorite color is Red.\n"
     ]
    }
   ],
   "source": [
    "# More Complicated\n",
    "import random\n",
    "\n",
    "print(\"Who am I working with today?\")\n",
    "userName = input(\" - \")\n",
    "print(\"Hello \" + userName.capitalize()+\"!\")\n",
    "print(userName.capitalize() + \", what is your favorite color?\")\n",
    "colorChoice = input(\" - \")\n",
    "print(colorChoice.capitalize() + \", is a great color!\")\n",
    "\n",
    "colorList = [\"Blue\", \"Green\", \"Pink\", \"Red\", \"Yellow\"]\n",
    "print(\"My favorite color is\", random.choice(colorList) + \".\")"
   ]
  },
  {
   "cell_type": "markdown",
   "id": "a45f3820",
   "metadata": {
    "jp-MarkdownHeadingCollapsed": true,
    "tags": []
   },
   "source": [
    "## Week 2 Assignments"
   ]
  },
  {
   "cell_type": "markdown",
   "id": "101debca-3125-41ae-acd4-496d6d1a23ad",
   "metadata": {},
   "source": [
    "### Strings \"James Bond\""
   ]
  },
  {
   "cell_type": "code",
   "execution_count": null,
   "id": "c54713a1",
   "metadata": {},
   "outputs": [
    {
     "name": "stdout",
     "output_type": "stream",
     "text": [
      "What is your first name?\n",
      " - jane\n",
      "What is your last name?\n",
      " - bond\n",
      "Your name is Bond, Jane Bond.\n"
     ]
    }
   ],
   "source": [
    "#####\n",
    "# Date: 2022-01-10\n",
    "# File: formatting_strings.py\n",
    "# Author: Vern Wolfley\n",
    "# Purpose: Display name like Bond, James Bond\n",
    "#####\n",
    "\n",
    "print(\"What is your first name?\")\n",
    "first_name = input(\" - \").capitalize()\n",
    "print(\"What is your last name?\")\n",
    "last_name = input(\" - \").capitalize()\n",
    "output = f\"Your name is {last_name}, {first_name} {last_name}.\"\n",
    "print(output)"
   ]
  },
  {
   "cell_type": "markdown",
   "id": "05a65ac7",
   "metadata": {},
   "source": [
    "### Programming Activity\n",
    "#### ID Badge Generator"
   ]
  },
  {
   "cell_type": "code",
   "execution_count": null,
   "id": "108bcfbb",
   "metadata": {},
   "outputs": [
    {
     "name": "stdout",
     "output_type": "stream",
     "text": [
      "Please enter the following information:\n"
     ]
    }
   ],
   "source": [
    "#####\n",
    "# Date: 2022-01-10\n",
    "# File: id-badge-build.py\n",
    "# Author: Vern Wolfley\n",
    "# Purpose: Create a properly formatted ID badge\n",
    "#####\n",
    "\n",
    "import re\n",
    "\n",
    "print(\"Please enter the following information:\")\n",
    "first_name = input(\"First Name: \")\n",
    "last_name = input(\"Last Name: \")\n",
    "email = input(\"Email Address: \")\n",
    "phone = input(\"Phone Number: \")\n",
    "job_title = input(\"Job Title: \")\n",
    "id_number = input(\"ID Number: \")\n",
    "\n",
    "phone_gen = '(%s) %s-%s' % tuple(re.findall(r'\\d{4}$|\\d{3}', phone))\n",
    "\n",
    "output = (f'''\n",
    "The ID Card is:\n",
    "-----------------------------------\n",
    "{last_name.upper()}, {first_name.capitalize()}\n",
    "{job_title.title()}\n",
    "ID: {id_number}\n",
    "\n",
    "{email}\n",
    "{phone_gen}\n",
    "-----------------------------------\n",
    "''')\n",
    "\n",
    "print(output)\n"
   ]
  },
  {
   "cell_type": "markdown",
   "id": "a377d286",
   "metadata": {},
   "source": [
    "### ID Badge Generator\n",
    "#### Stretch Challenge"
   ]
  },
  {
   "cell_type": "code",
   "execution_count": 2,
   "id": "675262dc",
   "metadata": {},
   "outputs": [
    {
     "name": "stdout",
     "output_type": "stream",
     "text": [
      "Please enter the following information:\n",
      "First Name: vern\n",
      "Last Name: wolfley\n",
      "Email Address: vwoll@gmail.com\n",
      "Phone Number: 6667774455\n",
      "Job Title: big boss\n",
      "ID Number: 44\n",
      "Hair Color: blue\n",
      "Eye Color: Black\n",
      "What month did you start?: December\n",
      "Have you completed training? (yes/no): yes\n",
      "\n",
      "The ID Card is:\n",
      "-----------------------------------\n",
      "WOLFLEY, Vern\n",
      "Big Boss\n",
      "ID: 44\n",
      "\n",
      "vwoll@gmail.com\n",
      "(666) 777-4455\n",
      "\n",
      "Hair: Blue          Eyes: Black\n",
      "Month: December     Training: YES\n",
      "-----------------------------------\n",
      "\n"
     ]
    }
   ],
   "source": [
    "#####\n",
    "# Date: 2022-01-10\n",
    "# File: id-badge-build.py\n",
    "# Author: Vern Wolfley\n",
    "# Purpose: Create a properly formatted ID badge\n",
    "#####\n",
    "\n",
    "import re\n",
    "\n",
    "print(\"Please enter the following information:\")\n",
    "\n",
    "first_name = input(\"First Name: \").capitalize()\n",
    "last_name = input(\"Last Name: \").upper()\n",
    "email = input(\"Email Address: \").lower()\n",
    "phone = input(\"Phone Number: \")\n",
    "job_title = input(\"Job Title: \").title()\n",
    "id_number = input(\"ID Number: \")\n",
    "hair_color = input(\"Hair Color: \").capitalize()\n",
    "eye_color = input(\"Eye Color: \").capitalize()\n",
    "start_month = input(\"What month did you start?: \").capitalize()\n",
    "training = input(\"Have you completed training? (yes/no): \").upper()\n",
    "\n",
    "phone_gen = '(%s) %s-%s' % tuple(re.findall(r'\\d{4}$|\\d{3}', phone.zfill(10)))\n",
    "\n",
    "hair = (f\"Hair: {hair_color}\")\n",
    "eyes = (f\"Eyes: {eye_color}\")\n",
    "month = (f\"Month: {start_month}\")\n",
    "train = (f\"Training: {training}\")\n",
    "\n",
    "output = (f'''\n",
    "The ID Card is:\n",
    "-----------------------------------\n",
    "{last_name}, {first_name}\n",
    "{job_title}\n",
    "ID: {id_number}\n",
    "\n",
    "{email}\n",
    "{phone_gen}\n",
    "\n",
    "{hair:<20}{eyes}\n",
    "{month:<20}{train}\n",
    "-----------------------------------\n",
    "''')\n",
    "\n",
    "print(output)\n"
   ]
  },
  {
   "cell_type": "markdown",
   "id": "172c9f99",
   "metadata": {},
   "source": [
    "### Week 2 Assignment - Word Games"
   ]
  },
  {
   "cell_type": "markdown",
   "id": "a211b743",
   "metadata": {},
   "source": [
    "#### Mad Lib Story\n",
    ">\n",
    ">The other day, I was really in trouble. It all started when I saw a very\n",
    ">[adjective] [animal] [verb] down the hallway. \"[exclamation]!\" I yelled. But all\n",
    ">I could think to do was to [verb] over and over. Miraculously,\n",
    ">that caused it to stop, but not before it tried to [verb]\n",
    ">right in front of my family.\n",
    ">\n",
    "\n",
    "* noun: a person, place, or thing (the President, living room, cup)\n",
    "* adjective: a word that describes a noun (smelly, green, alive)\n",
    "* verb: a word that shows an action (run, jump, play)\n",
    "* adverb: a word that describes how you do an action (quickly, gracefully, badly)\n",
    "* interjection: a short word or phrase that expresses emotion (Hey! Oh! WTF?!?)"
   ]
  },
  {
   "cell_type": "markdown",
   "id": "0ed7f70b",
   "metadata": {},
   "source": [
    "### Sample 1"
   ]
  },
  {
   "cell_type": "code",
   "execution_count": 47,
   "id": "52c5ab6e",
   "metadata": {
    "scrolled": true
   },
   "outputs": [
    {
     "name": "stdout",
     "output_type": "stream",
     "text": [
      "Please enter the following:\n",
      "Adjective: upset\n",
      "Animal: dog\n",
      "Verb: running\n",
      "Exclamation: Stop\n",
      "Verb: sitting\n",
      "Verb: crying\n",
      "\n",
      "The other day, I was really in trouble. It all started when I saw a very\n",
      "upset dog running down the hallway. \"Stop!\" I yelled. But all\n",
      "I could think to do was to sitting over and over. Miraculously,\n",
      "that caused it to stop, but not before it tried to crying\n",
      "right in front of my family.\n",
      "\n"
     ]
    }
   ],
   "source": [
    "#####\n",
    "# Date: 2022-01-11\n",
    "# Week 2 assignment\n",
    "# File: mad-libs.py\n",
    "# Author: Vern Wolfley\n",
    "# Purpose: Create a funny story using user input\n",
    "#####\n",
    "\n",
    "print(\"Please enter the following:\")\n",
    "\n",
    "adjective = input(\"Adjective: \")\n",
    "animal = input(\"Animal: \")\n",
    "verb1 = input(\"Verb: \")\n",
    "exclamation = input(\"Exclamation: \").capitalize()\n",
    "verb2 = input(\"Verb: \")\n",
    "verb3 = input(\"Verb: \")\n",
    "\n",
    "output = (f'''\n",
    "The other day, I was really in trouble. It all started when I saw a very\n",
    "{adjective} {animal} {verb1} down the hallway. \"{exclamation}!\" I yelled. But all\n",
    "I could think to do was to {verb2} over and over. Miraculously,\n",
    "that caused it to stop, but not before it tried to {verb3}\n",
    "right in front of my family.\n",
    "''')\n",
    "\n",
    "print(output)\n"
   ]
  },
  {
   "cell_type": "markdown",
   "id": "b56684f1",
   "metadata": {},
   "source": [
    "#### Mad Lib Sample 2\n",
    ">\n",
    ">The other day, I was really in trouble. It all started when I saw a very\n",
    ">[adjective] [animal] [verb] down the hallway. \"[exclamation]!\" I yelled. But all\n",
    ">I could think to do was to [verb] over and over. Miraculously,\n",
    ">that caused it to [verb], but not before it tried to [verb]\n",
    ">right in front of my family.  So, I [verb] up a [adjective] [noun].  My\n",
    ">family yelled \"[exclamation]!\", the [noun] is for the [animal].  Well that fixed\n",
    ">my trouble, and I have that [adjective] [noun] to thank for it.\n",
    ">\n",
    "\n",
    ">adjective = ['greedy','abrasive','grubby','groovy','rich','harsh','tasty','slow']\n",
    ">\n",
    ">noun = ['people','map','music','dog','hamster','ball','hotdog','salad']\n",
    ">\n",
    ">verb = ['run','fall','crawl','scurry','cry','watch','swim','jump','bounce']"
   ]
  },
  {
   "cell_type": "code",
   "execution_count": 2,
   "id": "8e3ac19b",
   "metadata": {},
   "outputs": [
    {
     "name": "stdout",
     "output_type": "stream",
     "text": [
      "\n",
      "Let's play a fun game!\n",
      "\n",
      "Please enter the following:\n",
      "\n",
      "Adjective: rich\n",
      "Animal: cat\n",
      "Verb: crawl\n",
      "Exclamation: Not now\n",
      "Verb: fall\n",
      "Verb: jump\n",
      "Exclamation: get out\n",
      "Adjective: tasty\n",
      "Animal: lion\n",
      "Verb: watch\n",
      "Noun: truck\n",
      "Adjective: groovy\n",
      "Noun: hammer\n",
      "Noun: saw\n",
      "\n",
      "The other day, I was really in trouble. It all started when I saw a very\n",
      "rich lion fall down the hallway. \"Get out!\" I yelled. \n",
      "But allI could think to do was to crawl over and over. Miraculously,\n",
      "that caused it to stop, but not before it tried to watch\n",
      "right in front of my family.  So, I fall up a groovy hammer. \n",
      "My family \"Not now!\", the truck is for the lion. \n",
      "Well that fixed my trouble, and I have that groovy truck to thank for it.\n",
      "\n"
     ]
    }
   ],
   "source": [
    "#####\n",
    "# Date: 2022-01-15\n",
    "# Week 2 assignment\n",
    "# File: mad-libs.py\n",
    "# Author: Vern Wolfley\n",
    "# Purpose: Create a funny story using user input\n",
    "#####\n",
    "\n",
    "import random\n",
    "\n",
    "# stores user inputs in array\n",
    "verbs = []\n",
    "animals = []\n",
    "adjectives =[]\n",
    "exclamations = []\n",
    "nouns = []\n",
    "\n",
    "start = (f'''\n",
    "Let's play a fun game!\n",
    "\n",
    "Please enter the following:\n",
    "''')\n",
    "\n",
    "print(start)\n",
    "\n",
    "adj1 = input(\"Adjective: \")\n",
    "animal1 = input(\"Animal: \")\n",
    "verb1 = input(\"Verb: \")\n",
    "excl1 = input(\"Exclamation: \").capitalize()\n",
    "verb2 = input(\"Verb: \")\n",
    "verb3 = input(\"Verb: \")\n",
    "excl2 = input(\"Exclamation: \").capitalize()\n",
    "adj2 = input(\"Adjective: \")\n",
    "animal2 = input(\"Animal: \")\n",
    "verb4 = input(\"Verb: \")\n",
    "noun1 = input(\"Noun: \")\n",
    "adj3 = input(\"Adjective: \")\n",
    "noun2 = input(\"Noun: \")\n",
    "noun3 = input(\"Noun: \")\n",
    "\n",
    "# pushes variables into arrays\n",
    "verbs.extend([verb1, verb2, verb3, verb4])\n",
    "animals.extend([animal1, animal2])\n",
    "adjectives.extend([adj1, adj2, adj3])\n",
    "exclamations.extend([excl1, excl2])\n",
    "nouns.extend([noun1, noun2, noun3])\n",
    "\n",
    "# creates a random choice from each array\n",
    "# not a unquie choice\n",
    "x = random.choice\n",
    "\n",
    "# output variable\n",
    "mad_lib = (f'''\n",
    "The other day, I was really in trouble. It all started when I saw a very\n",
    "{x(adjectives)} {x(animals)} {x(verbs)} down the hallway. \"{x(exclamations)}!\" I yelled. \n",
    "But all I could think to do was to {x(verbs)} over and over. Miraculously,\n",
    "that caused it to stop, but not before it tried to {x(verbs)}\n",
    "right in front of my family.  So, I {x(verbs)} up a {x(adjectives)} {x(nouns)}. \n",
    "My family yelled \"{x(exclamations)}!\", the {x(nouns)} is for the {x(animals)}. \n",
    "Well that fixed my trouble, and I have that {x(adjectives)} {x(nouns)} to thank for it.\n",
    "''')\n",
    "\n",
    "# prints output\n",
    "print(mad_lib)\n"
   ]
  },
  {
   "cell_type": "markdown",
   "id": "b887877d",
   "metadata": {},
   "source": [
    "## Week 3 Assignments"
   ]
  },
  {
   "cell_type": "markdown",
   "id": "3616e0a5-c679-40c4-b90c-2596627f179e",
   "metadata": {},
   "source": [
    "### Week 3\n",
    "#### Checkpoint Assignment"
   ]
  },
  {
   "cell_type": "code",
   "execution_count": 8,
   "id": "9ef2257f",
   "metadata": {},
   "outputs": [
    {
     "name": "stdout",
     "output_type": "stream",
     "text": [
      "What is your age? 18\n",
      "You will be 19 on your next birthday!\n"
     ]
    }
   ],
   "source": [
    "#####\n",
    "# Date: 2022-01-18\n",
    "# Week 3 Checkpoint assignment\n",
    "# File: check03.py\n",
    "# Author: Vern Wolfley\n",
    "# Purpose: Practice converting user input to numeric data types and perform calculations.\n",
    "#####\n",
    "\n",
    "age = input(\"What is your age? \")\n",
    "age_plus = int(age) +1\n",
    "print(f'You will be {age_plus} on your next birthday!')"
   ]
  },
  {
   "cell_type": "code",
   "execution_count": 6,
   "id": "bbeebfae",
   "metadata": {},
   "outputs": [
    {
     "name": "stdout",
     "output_type": "stream",
     "text": [
      "How many egg cartons do you have? 0\n",
      "You have 0 eggs!\n"
     ]
    }
   ],
   "source": [
    "cartons = input(\"How many egg cartons do you have? \")\n",
    "eggs = int(cartons) * 12\n",
    "print(f'You have {eggs} eggs!')"
   ]
  },
  {
   "cell_type": "code",
   "execution_count": 10,
   "id": "dbf5c76a",
   "metadata": {},
   "outputs": [
    {
     "name": "stdout",
     "output_type": "stream",
     "text": [
      "How may cookies do you have? 25\n",
      "How may people are in your group? 2\n",
      "Each person may have 12 cookies then!\n"
     ]
    }
   ],
   "source": [
    "cookies = input(\"How may cookies do you have? \")\n",
    "people = input(\"How may people are in your group? \")\n",
    "#cookies_per = int(cookies)/int(people)\n",
    "cookies_per = int(int(cookies)/int(people))\n",
    "print(f'Each person may have {cookies_per} cookies then!')"
   ]
  },
  {
   "cell_type": "markdown",
   "id": "cb299552",
   "metadata": {
    "tags": []
   },
   "source": [
    "### Week 3\n",
    "#### Team Activity\n",
    "##### Areas of Shapes\n",
    "#### Core Requirements"
   ]
  },
  {
   "cell_type": "code",
   "execution_count": 2,
   "id": "a8a02c6d",
   "metadata": {
    "tags": []
   },
   "outputs": [
    {
     "name": "stdout",
     "output_type": "stream",
     "text": [
      "What is the length of one side of your square? 4\n",
      "The area of your square is: 16.0\n"
     ]
    }
   ],
   "source": [
    "# Square area of computation\n",
    "\n",
    "length = input(\"What is the length of one side of your square? \")\n",
    "sq_area = float(length)**2\n",
    "print(f'The area of your square is: {sq_area}')"
   ]
  },
  {
   "cell_type": "code",
   "execution_count": 7,
   "id": "0b2ab0ba",
   "metadata": {},
   "outputs": [
    {
     "name": "stdout",
     "output_type": "stream",
     "text": [
      "What is the length of your rectangle? 3.444444\n",
      "What is the width of your rectangle? 5.777777\n",
      "The area of your rectangle is: 19.901\n"
     ]
    }
   ],
   "source": [
    "# Rectangle area of computation\n",
    "\n",
    "r_len = input(\"What is the length of your rectangle? \")\n",
    "r_wid = input(\"What is the width of your rectangle? \")\n",
    "r_area = float(r_len) * float(r_wid)\n",
    "print(f'The area of your rectangle is: {round(r_area, 3)}')"
   ]
  },
  {
   "cell_type": "code",
   "execution_count": 24,
   "id": "083b70db",
   "metadata": {},
   "outputs": [
    {
     "name": "stdout",
     "output_type": "stream",
     "text": [
      "What is the radius of your cicle? 6\n",
      "The area of your cirlcle is: 113.097\n"
     ]
    }
   ],
   "source": [
    "# Circle area of computation\n",
    "\n",
    "import math\n",
    "\n",
    "radius = input(\"What is the radius of your circle? \")\n",
    "#\n",
    "# cir_area = 3.14 * float(radius)**2\n",
    "# or\n",
    "#\n",
    "cir_area = math.pi * float(radius)**2\n",
    "print(f'The area of your circle is: {round(cir_area, 3)}')\n"
   ]
  },
  {
   "cell_type": "markdown",
   "id": "62d79e27",
   "metadata": {},
   "source": [
    "#### Stretch Challenge\n",
    "\n",
    "Prompt the user for a single length value, then compute and display the areas of a square with that length of side, a circle with that radius, and then the volumes of a cube with that side and a sphere with that radius, all from the same value from the user."
   ]
  },
  {
   "cell_type": "code",
   "execution_count": 25,
   "id": "5eb61d5f",
   "metadata": {},
   "outputs": [
    {
     "name": "stdout",
     "output_type": "stream",
     "text": [
      "Pick any length: 6\n",
      "\n",
      "Area of a Square = 36.0\n",
      "Area of a Circle = 113.1\n",
      "Volume of Cube = 216.0\n",
      "Volume of Sphere = 904.8\n",
      "\n"
     ]
    }
   ],
   "source": [
    "import math\n",
    "\n",
    "length = input(\"Pick any length: \")\n",
    "\n",
    "area_sq = float(length)**2\n",
    "area_cir = math.pi*float(length)**2\n",
    "vol_cube = float(length)**3\n",
    "vol_sph = (4/3) * math.pi * float(length)**3\n",
    "\n",
    "output =(f'''\n",
    "Area of a Square = {area_sq}\n",
    "Area of a Circle = {area_cir:.1f}\n",
    "Volume of Cube = {vol_cube}\n",
    "Volume of Sphere = {vol_sph:.1f}\n",
    "''')\n",
    "\n",
    "print(output)\n"
   ]
  },
  {
   "cell_type": "markdown",
   "id": "9e7a1185",
   "metadata": {},
   "source": [
    "For each of the three areas in the core requirements, change the prompt for the user to ask for the value in centimeters. Then, display the resulting area in both square centimeters and square meters. Keep in mind that a centimeter is 1/100 of a meter, and a square centimeter is 1/10,000 of a square meter."
   ]
  },
  {
   "cell_type": "code",
   "execution_count": 27,
   "id": "34fd5b21",
   "metadata": {},
   "outputs": [
    {
     "name": "stdout",
     "output_type": "stream",
     "text": [
      "Pick any length in cm: 3\n",
      "Pick any width in cm: 4\n",
      "Pick any radius in cm: 6\n",
      "\n",
      "Area of square with length 3cm in cm = 9.0cm^2\n",
      "Area of square with length 3cm in m = 0.0009000000000000001m^2\n",
      "\n",
      "Area of a rectangle with length 3cm and width 4cm = 12.0cm^2\n",
      "Area of a rectangle with length 3cm and width 4cm = 0.0012000000000000001m^2\n",
      "\n",
      "Area of a circle with radius 6cm = 113.097cm^2\n",
      "Area of a circle with radius 6cm = 0.011m^2\n",
      "\n"
     ]
    }
   ],
   "source": [
    "import math\n",
    "\n",
    "length = input(\"Pick any length in cm: \")\n",
    "width = input(\"Pick any width in cm: \")\n",
    "radius = input(\"Pick any radius in cm: \")\n",
    "area_sq = float(length)**2\n",
    "meters = (1/10000)\n",
    "area_req = float(length) * float(width)\n",
    "area_cir = math.pi * float(radius)**2\n",
    "\n",
    "output =(f'''\n",
    "Area of square with length {length}cm = {area_sq}cm^2\n",
    "Area of square with length {length}cm = {area_sq * meters:.4f}m^2\n",
    "\n",
    "Area of a rectangle with length {length}cm and width {width}cm = {area_req}cm^2\n",
    "Area of a rectangle with length {length}cm and width {width}cm = {area_req * meters:.4f}m^2\n",
    "\n",
    "Area of a circle with radius {radius}cm = {area_cir:.3f}cm^2\n",
    "Area of a circle with radius {radius}cm = {area_cir * meters:.4f}m^2\n",
    "''') \n",
    "\n",
    "print(output)"
   ]
  },
  {
   "cell_type": "markdown",
   "id": "7fbbaa1d",
   "metadata": {},
   "source": [
    "### 03 Prove: Milestone - Meal Price Calculator"
   ]
  },
  {
   "cell_type": "code",
   "execution_count": 18,
   "id": "c558f52e",
   "metadata": {},
   "outputs": [
    {
     "name": "stdout",
     "output_type": "stream",
     "text": [
      "What is the price of a child's meal?  2\n",
      "What is the price of an adult's meal?  2\n",
      "How many children are there?  1\n",
      "How many adults are there?  1\n",
      "What is the sales tax rate?  0\n",
      "\n",
      "Sales Receipt\n",
      "--------------------------------\n",
      "1 Child's meals @ $2.00   $2.00\n",
      "1 Adult's meals @ $2.00   $2.00\n",
      "Subtotal:                 $4.00\n",
      "Sales Tax:                $0.00\n",
      "Gratuity of 18%           $0.72\n",
      "--------------------------------\n",
      "Total:                    $4.72\n",
      "\n"
     ]
    }
   ],
   "source": [
    "#####\n",
    "# Date: 2022-01-22\n",
    "# Week 3 Prove: Milestone - Meal Price Calculator\n",
    "# File: prove03.py\n",
    "# Author: Vern Wolfley\n",
    "# Purpose: Compute the price of a meal.\n",
    "#####\n",
    "\n",
    "\n",
    "# What is the price of a child's meal? 4.50\n",
    "# What is the price of an adult's meal? 9.00\n",
    "# How many children are there? 4\n",
    "# How many adults are there? 2\n",
    "# What is the sales tax rate? 6\n",
    "\n",
    "# Subtotal: $36.00\n",
    "# Sales Tax: $2.16\n",
    "# Total: $38.16\n",
    "\n",
    "# What is the payment amount? 40\n",
    "# Change: $1.84\n",
    "    \n",
    "child_meal = float(input(\"What is the price of a child's meal?  \"))\n",
    "adult_meal = float(input(\"What is the price of an adult's meal?  \"))\n",
    "num_children = int(input(\"How many children are there?  \"))\n",
    "num_adults = int(input(\"How many adults are there?  \"))\n",
    "sales_tax = float(input(\"What is the sales tax rate?  \"))\n",
    "    \n",
    "child_sub = (child_meal * num_children)\n",
    "adult_sub = (adult_meal * num_adults)\n",
    "subtotal = child_sub + adult_sub\n",
    "tax_rate = (subtotal * sales_tax)/100\n",
    "total_price = subtotal + tax_rate\n",
    "tip_rate = 0.18\n",
    "tip = total_price * tip_rate\n",
    "total = total_price + tip\n",
    "\n",
    "child_string = (f'{num_children} Child\\'s meals @ ${child_meal:.2f}')\n",
    "adult_string = (f'{num_adults} Adult\\'s meals @ ${adult_meal:.2f}')\n",
    "sub_string = (f'Subtotal:')\n",
    "tax_string = (f'Sales Tax:')\n",
    "total_string = (f'Total:')\n",
    "tip_string = (f'Gratuity of 18%')\n",
    "     \n",
    "output = (f'''\n",
    "Sales Receipt\n",
    "--------------------------------\n",
    "{child_string:<25} ${child_sub:.2f}\n",
    "{adult_string:<25} ${adult_sub:.2f}\n",
    "--------------------------------\n",
    "{sub_string:<25} ${subtotal:.2f}\n",
    "{tax_string:<25} ${tax_rate:.2f}\n",
    "{tip_string:<25} ${tip:.2f}\n",
    "--------------------------------\n",
    "{total_string:<25} ${total:.2f}\n",
    "''')\n",
    "\n",
    "\n",
    "print(output)"
   ]
  },
  {
   "cell_type": "markdown",
   "id": "ae73fd9f",
   "metadata": {},
   "source": [
    "### Week 4\n",
    "#### Checkpoint Activity"
   ]
  },
  {
   "cell_type": "code",
   "execution_count": 4,
   "id": "2a4cc95c",
   "metadata": {},
   "outputs": [
    {
     "name": "stdout",
     "output_type": "stream",
     "text": [
      "What is the temperature in Feahrenheit? 59\n",
      "Temperature in Fahrenheit = 59.0°F\n",
      "Temperature in Celsius = 15.0°C\n"
     ]
    }
   ],
   "source": [
    "# Convert degrees in Fahrenheit to Celsius\n",
    "\n",
    "# test 12\n",
    "# test 81\n",
    "\n",
    "temp_f = float(input(\"What is the temperature in Feahrenheit? \"))\n",
    "\n",
    "temp_c = (temp_f - 32) * 5/9\n",
    "\n",
    "#prints the degree symbol/character\n",
    "degree_sign = u\"\\N{DEGREE SIGN}\"\n",
    "\n",
    "print(f'Temperature in Fahrenheit = {temp_f:.1f}{degree_sign}F')\n",
    "print(f'Temperature in Celsius = {temp_c:.1f}{degree_sign}C')\n"
   ]
  },
  {
   "cell_type": "markdown",
   "id": "f480574d",
   "metadata": {},
   "source": [
    "### Team Task\n",
    "##### Create a program that calculates the speed of a falling object."
   ]
  },
  {
   "cell_type": "code",
   "execution_count": 6,
   "id": "095467ac",
   "metadata": {},
   "outputs": [
    {
     "name": "stdout",
     "output_type": "stream",
     "text": [
      "Welcome to the velocity calculator.\n",
      "Please enter the following: \n",
      "\n",
      "Mass (in kg): 5\n",
      "Gravity, Earth = 9.8/Jupiter = 24 (in m/s^2): 9.8\n",
      "Time (in seconds): 10\n",
      "Density of the fluid, air = 1.3/water = 1000 (in Kg/m^3): 1.3\n",
      "Cross sectional area (in m^2): .01\n",
      "Drag constant, (sphere = 0.5/cylinder = 1.1): .5\n",
      "The inner value of c = 0.003\n",
      "The velocity after 10.0 seconds = 67.512m/s\n"
     ]
    }
   ],
   "source": [
    "# Core Requirements\n",
    "\n",
    "import math\n",
    "\n",
    "# v(t) = velocity at time t (s)\n",
    "# m = mass of the object (kg)\n",
    "# g = acceleration due to gravity (m/s^2)\n",
    "# p = density of the fluid through which the object falls (kg/m^3)\n",
    "# A = cross sectional area of object\n",
    "# C = drag coeffiecient\n",
    "\n",
    "print(f'Welcome to the velocity calculator.')\n",
    "print(f'Please enter the following: \\n')\n",
    "\n",
    "# Function variables and constants\n",
    "m = float(input(\"Mass (in kg): \"))\n",
    "g = float(input(\"Gravity, Earth = 9.8/Jupiter = 24 (in m/s^2): \"))\n",
    "t = float(input(\"Time (in seconds): \"))\n",
    "p = float(input(\"Density of the fluid, air = 1.3/water = 1000 (in Kg/m^3): \"))\n",
    "A = float(input(\"Cross sectional area (in m^2): \"))\n",
    "C = float(input(\"Drag constant, (sphere = 0.5/cylinder = 1.1): \"))\n",
    "\n",
    "# Test variables and constants\n",
    "# m = 5\n",
    "# g = 9.8\n",
    "# t = 10\n",
    "# p = 1.29\n",
    "# A = .01\n",
    "# C = .5\n",
    "\n",
    "# inner value of c\n",
    "c = (1/2) * p * A * C\n",
    "print(f'The inner value of c = {c:.3f}')\n",
    "\n",
    "# Velocity at time t\n",
    "v = math.sqrt((m * g) / c) * (1 - math.exp((- math.sqrt(m * g * c) / m) * t))\n",
    "\n",
    "print(f'The velocity after {t:.1f} seconds = {v:.3f}m/s')"
   ]
  },
  {
   "cell_type": "markdown",
   "id": "0ea29e3e",
   "metadata": {},
   "source": [
    "#### Stretch Challenge"
   ]
  },
  {
   "cell_type": "markdown",
   "id": "4830164e",
   "metadata": {},
   "source": [
    "#### Velocity of a Bowling Ball"
   ]
  },
  {
   "cell_type": "code",
   "execution_count": 7,
   "id": "33744ebd",
   "metadata": {},
   "outputs": [
    {
     "name": "stdout",
     "output_type": "stream",
     "text": [
      "The inner value of c = 145.896\n",
      "The velocity after 0.5 seconds = 0.698m/s\n",
      "Terminal velocity = 0.698m/s\n"
     ]
    }
   ],
   "source": [
    "# Bowling ball data\n",
    "\n",
    "import math\n",
    "\n",
    "# mass of typical bowling ball (16lbs or 7.26kg)\n",
    "m = 7.26\n",
    "# acceleration due to gravity (m/s^2)\n",
    "g = 9.8\n",
    "# time (s)\n",
    "t = .5\n",
    "# density of the fluid through which the object falls air (kg/m^3)\n",
    "p = 1.29\n",
    "# cross sectional area of the ball\n",
    "# radius of ball (cm)\n",
    "r = 12\n",
    "A = math.pi * r**2\n",
    "# drag coefficient sphere - 0.5\n",
    "C = .5\n",
    "\n",
    "# inner value of c\n",
    "c = (1/2) * p * A * C\n",
    "print(f'The inner value of c = {c:.3f}')\n",
    "\n",
    "# Velocity at time t\n",
    "v = math.sqrt((m * g / c)) * (1 - math.exp((-math.sqrt(m * g * c) / m) * t))\n",
    "print(f'The velocity after {t:.1f} seconds = {v:.3f}m/s')\n",
    "\n",
    "# Terminal velocity\n",
    "v_t = math.sqrt((m * g) / c)\n",
    "print(f'Terminal velocity = {v_t:.3f}m/s')"
   ]
  },
  {
   "cell_type": "markdown",
   "id": "bfe4e66a",
   "metadata": {},
   "source": [
    "#### Velocity of a loaf of bread"
   ]
  },
  {
   "cell_type": "code",
   "execution_count": 32,
   "id": "2d1a1637",
   "metadata": {},
   "outputs": [
    {
     "name": "stdout",
     "output_type": "stream",
     "text": [
      "The inner value of c = 35.663\n",
      "The velocity after 10.0 seconds = 0.629m/s\n"
     ]
    }
   ],
   "source": [
    "# Loaf of bread\n",
    "\n",
    "import math\n",
    "\n",
    "# mass of typical loaf of bread (1.44kg)\n",
    "m = 1.44\n",
    "# acceleration due to gravity (m/s^2)\n",
    "g = 9.8\n",
    "# time (s)\n",
    "t = 10\n",
    "# density of the fluid through which the object falls air (kg/m^3)\n",
    "p = 1.29\n",
    "# cross sectional area of loaf of bread\n",
    "# radius of loaf (cm)\n",
    "r = 4\n",
    "A = math.pi * r**2\n",
    "# drag coefficient cylinder - 1.1\n",
    "C = 1.1\n",
    "\n",
    "# inner value of c\n",
    "c = (1/2) * p * A * C\n",
    "print(f'The inner value of c = {c:.3f}')\n",
    "\n",
    "# Velocity at time t\n",
    "v = math.sqrt((m * g / c)) * (1 - math.exp((-math.sqrt(m * g * c) / m) * t))\n",
    "print(f'The velocity after {t:.1f} seconds = {v:.3f}m/s')\n",
    "\n",
    "# Terminal velocity\n",
    "v_t = math.sqrt((m * g) / c)\n",
    "print(f'Terminal velocity = {v_t:.3f}m/s')"
   ]
  },
  {
   "cell_type": "markdown",
   "id": "e64f12f9",
   "metadata": {},
   "source": [
    "#### Velocity of loaf of Bread"
   ]
  },
  {
   "cell_type": "code",
   "execution_count": 16,
   "id": "91e44867",
   "metadata": {},
   "outputs": [
    {
     "name": "stdout",
     "output_type": "stream",
     "text": [
      "The inner value of c = 35.663\n",
      "0 = 0.0\n",
      "0.25 = 0.6162473316523096\n",
      "0.5 = 0.6287866405733756\n",
      "1 = 0.6290469802770123\n",
      "2 = 0.6290470881114013\n",
      "3 = 0.6290470881114198\n",
      "4 = 0.6290470881114198\n",
      "5 = 0.6290470881114198\n",
      "6 = 0.6290470881114198\n",
      "7 = 0.6290470881114198\n",
      "8 = 0.6290470881114198\n",
      "9 = 0.6290470881114198\n",
      "10 = 0.6290470881114198\n"
     ]
    }
   ],
   "source": [
    "import math\n",
    "\n",
    "# mass of typical loaf of bread (1.44kg)\n",
    "m = 1.44\n",
    "# acceleration due to gravity (m/s^2)\n",
    "g = 9.8\n",
    "# time (s)\n",
    "t = [0,.25,.5,1,2,3,4,5,6,7,8,9,10]\n",
    "# density of the fluid through which the object falls air (kg/m^3)\n",
    "p = 1.29\n",
    "# cross sectional area of loaf of bread\n",
    "# radius of loaf (cm)\n",
    "r = 4\n",
    "A = math.pi * r**2\n",
    "# drag coefficient cylinder - 1.1\n",
    "C = 1.1\n",
    "\n",
    "# inner value of c\n",
    "c = (1/2) * p * A * C\n",
    "print(f'The inner value of c = {c:.3f}')\n",
    "\n",
    "length = len(t)\n",
    "i = 0\n",
    "\n",
    "while i < length:\n",
    "    v = math.sqrt((m * g / c)) * (1 - math.exp((-math.sqrt(m * g * c) / m) * t[i]))\n",
    "    print(t[i], \"=\", v)\n",
    "    i += 1\n",
    "# output = (f'The velocity after {t:.1f} seconds = {v:.3f}m/s')\n",
    "# print(output)\n"
   ]
  },
  {
   "cell_type": "code",
   "execution_count": null,
   "id": "3b890f1f",
   "metadata": {},
   "outputs": [],
   "source": [
    "i = 0\n",
    "while i < 5:\n",
    "    print(i)\n",
    "    i+=1"
   ]
  },
  {
   "cell_type": "markdown",
   "id": "cfd503fa",
   "metadata": {},
   "source": [
    "### 04 Prove: Milestone - Meal Price Calculator Continued"
   ]
  },
  {
   "cell_type": "code",
   "execution_count": 21,
   "id": "581dba6d",
   "metadata": {},
   "outputs": [
    {
     "name": "stdout",
     "output_type": "stream",
     "text": [
      "What is the price of a child's meal?  4\n",
      "What is the price of an adult's meal?  6\n",
      "How many children are there?  4\n",
      "How many adults are there?  2\n",
      "Did you purchase drinks? (Y/N)y\n",
      "How many drinks were purchased?  6\n",
      "What is the sales tax rate?  5.7\n",
      "\n",
      "\u001b[1mSales Receipt\u001b[0m\n",
      "--------------------------------\n",
      "4 Child's meals @ $4.00   $16.00\n",
      "2 Adult's meals @ $6.00   $12.00\n",
      "6 Drinks @ $1.50          $9.00\n",
      "--------------------------------\n",
      "Subtotal:                 $37.00\n",
      "Sales Tax @ 5.7%:         $2.11\n",
      "Gratuity of 18%           $7.04\n",
      "--------------------------------\n",
      "Total:                    \u001b[1m$46.15\u001b[0m\n",
      "\n",
      "What is the payment amount?  50\n",
      "\n",
      "\u001b[1mSales Receipt\u001b[0m\n",
      "--------------------------------\n",
      "4 Child's meals @ $4.00   $16.00\n",
      "2 Adult's meals @ $6.00   $12.00\n",
      "6 Drinks @ $1.50          $9.00\n",
      "--------------------------------\n",
      "Subtotal:                 $37.00\n",
      "Sales Tax @ 5.7%:         $2.11\n",
      "Gratuity of 18%           $7.04\n",
      "--------------------------------\n",
      "Total:                    $46.15\n",
      "\n",
      "Payment tendered:         $50.00\n",
      "Change due:               \u001b[1m$3.85\u001b[0m\n",
      "\n",
      "Thank You, Please come again!\n",
      "\n"
     ]
    }
   ],
   "source": [
    "#####\n",
    "# Date: 2022-01-29\n",
    "# Week 4 Prove: Milestone - Meal Price Calculator Continued\n",
    "# File: week4-prove.py\n",
    "# Author: Vern Wolfley\n",
    "# Purpose: Compute the price of a meal.\n",
    "#####\n",
    "\n",
    "# What is the price of a child's meal? 4.50\n",
    "# What is the price of an adult's meal? 9.00\n",
    "# How many children are there? 4\n",
    "# How many adults are there? 2\n",
    "# What is the sales tax rate? 6\n",
    "\n",
    "# Subtotal: $36.00\n",
    "# Sales Tax: $2.16\n",
    "# Total: $38.16\n",
    "\n",
    "# What is the payment amount? 40\n",
    "# Change: $1.84\n",
    "\n",
    "# Inputs\n",
    "## Task 01\n",
    "child_meal = float(input(\"What is the price of a child's meal?  \"))\n",
    "adult_meal = float(input(\"What is the price of an adult's meal?  \"))\n",
    "## Task 02\n",
    "num_children = int(input(\"How many children are there?  \"))\n",
    "num_adults = int(input(\"How many adults are there?  \"))\n",
    "\n",
    "drinks_question = input(\"Did you purchase drinks? (Y/N)\")\n",
    "\n",
    "if drinks_question == \"y\":\n",
    "    drinks = int(input(\"How many drinks were purchased?  \"))\n",
    "    drinks_sub = (drinks * 1.5)\n",
    "    drinks_string = (f'{drinks} Drinks @ $1.50')\n",
    "elif drinks_question == \"n\":\n",
    "    drinks_sub = 0\n",
    "    drinks_string = (f'No drinks purchased - ')\n",
    "    \n",
    "    \n",
    "## Task 03\n",
    "sales_tax = float(input(\"What is the sales tax rate?  \"))\n",
    "\n",
    "\n",
    "# Variables\n",
    "child_sub = (child_meal * num_children)\n",
    "adult_sub = (adult_meal * num_adults)\n",
    "\n",
    "subtotal = child_sub + adult_sub + drinks_sub\n",
    "tax_rate = (subtotal * sales_tax)/100\n",
    "total_price = subtotal + tax_rate\n",
    "tip_rate = 0.18\n",
    "tip = total_price * tip_rate\n",
    "total = total_price + tip\n",
    "\n",
    "# Outputs \n",
    "child_string = (f'{num_children} Child\\'s meals @ ${child_meal:.2f}')\n",
    "adult_string = (f'{num_adults} Adult\\'s meals @ ${adult_meal:.2f}')\n",
    "## Task 04\n",
    "sub_string = (f'Subtotal')\n",
    "## Task 05\n",
    "tax_string = (f'Sales Tax @ {sales_tax}%')\n",
    "tip_string = (f'Gratuity of 18%')\n",
    "## Task 06\n",
    "total_string = (f'Total:')\n",
    "\n",
    "# Bold ANSI \n",
    "bold_s = '\\033[1m'\n",
    "bold_e = '\\033[0m'\n",
    "\n",
    "\n",
    "## Task 09\n",
    "## Task 10\n",
    "## Task 11\n",
    "## Task 12\n",
    "## Task 13\n",
    "bill = (f'''\n",
    "{bold_s}Sales Receipt{bold_e}\n",
    "--------------------------------\n",
    "{child_string:<25} ${child_sub:.2f}\n",
    "{adult_string:<25} ${adult_sub:.2f}\n",
    "{drinks_string:<25} ${drinks_sub:.2f}\n",
    "--------------------------------\n",
    "{sub_string:<25} ${subtotal:.2f}\n",
    "{tax_string:<25} ${tax_rate:.2f}\n",
    "{tip_string:<25} ${tip:.2f}\n",
    "--------------------------------\n",
    "{total_string:<25} {bold_s}${total:.2f}{bold_e}\n",
    "''')\n",
    "\n",
    "print(bill)\n",
    "\n",
    "## Task 07\n",
    "payment = float(input(\"What is the payment tendered?  \"))\n",
    "## Task 08\n",
    "change = abs(total - payment)\n",
    "payment_string = (f'Payment tendered:')\n",
    "change_string = (f'Change due:')\n",
    "\n",
    "receipt = (f'''\n",
    "{bold_s}Sales Receipt{bold_e}\n",
    "--------------------------------\n",
    "{child_string:<25} ${child_sub:.2f}\n",
    "{adult_string:<25} ${adult_sub:.2f}\n",
    "{drinks_string:<25} ${drinks_sub:.2f}\n",
    "--------------------------------\n",
    "{sub_string:<25} ${subtotal:.2f}\n",
    "{tax_string:<25} ${tax_rate:.2f}\n",
    "{tip_string:<25} ${tip:.2f}\n",
    "--------------------------------\n",
    "{total_string:<25} ${total:.2f}\n",
    "\n",
    "{payment_string:<25} ${payment:.2f}\n",
    "{change_string:<25} {bold_s}${change:.2f}{bold_e}\n",
    "\n",
    "Thank You, Please come again!\n",
    "''')\n",
    "\n",
    "print(receipt)\n"
   ]
  },
  {
   "cell_type": "code",
   "execution_count": null,
   "id": "cbd9166d",
   "metadata": {},
   "outputs": [],
   "source": []
  },
  {
   "cell_type": "code",
   "execution_count": null,
   "id": "3c4aca54",
   "metadata": {},
   "outputs": [],
   "source": []
  }
 ],
 "metadata": {
  "kernelspec": {
   "display_name": "Python 3 (ipykernel)",
   "language": "python",
   "name": "python3"
  },
  "language_info": {
   "codemirror_mode": {
    "name": "ipython",
    "version": 3
   },
   "file_extension": ".py",
   "mimetype": "text/x-python",
   "name": "python",
   "nbconvert_exporter": "python",
   "pygments_lexer": "ipython3",
   "version": "3.9.7"
  }
 },
 "nbformat": 4,
 "nbformat_minor": 5
}
