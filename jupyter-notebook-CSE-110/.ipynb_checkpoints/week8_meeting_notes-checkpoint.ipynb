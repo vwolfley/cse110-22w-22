{
 "cells": [
  {
   "cell_type": "code",
   "execution_count": 5,
   "id": "60c452ef",
   "metadata": {},
   "outputs": [],
   "source": [
    "from PIL import Image\n",
    "# print(\"The Library is loaded correctly\")\n",
    "\n",
    "# Path to my directory where the images are stored\n",
    "file_path = \"../assignment_files/cse110_images/\"\n",
    "\n",
    "# image_og = Image.open(file_path + \"/beach.jpg\")\n",
    "\n",
    "background_image = Image.open(file_path + \"/earth.jpg\")\n",
    "overlay_image = Image.open(file_path + \"/spaceshuttle.jpg\")\n",
    "\n",
    "# background_image = Image.open(file_path + \"/field.jpg\")\n",
    "# overlay_image = Image.open(file_path + \"/cat.jpg\")\n",
    "\n",
    "# background_image.show()\n",
    "# overlay_image.show()\n",
    "\n",
    "background_pixels = background_image.load()\n",
    "overlay_pixels = overlay_image.load()\n",
    "\n",
    "# print(overlay_pixels[0,0])\n",
    "\n",
    "# green screen pixel color (66, 229, 24)\n",
    "\n",
    "image_combined = Image.new(\"RGB\", background_image.size)\n",
    "combined_pixels = image_combined.load()\n",
    "\n",
    "# image_combined.show()\n",
    "\n",
    "(width, height) = background_image.size\n",
    "\n",
    "for x in range(0, width):\n",
    "    for y in range(0, height):\n",
    "        (r_overlay, g_overlay, b_overlay) = overlay_pixels[x,y]\n",
    "        (r_background, g_background, b_background) = background_pixels[x,y]\n",
    "        \n",
    "        if abs(r_overlay-66)< 80 and abs(g_overlay-229)<80 and abs(b_overlay- 24)<80:\n",
    "            combined_pixels[x,y] = (r_background, g_background, b_background)\n",
    "        else:\n",
    "            combined_pixels[x,y] = (r_overlay, g_overlay, b_overlay)\n",
    "\n",
    "image_combined.show()\n",
    "\n",
    "\n",
    "# image_combined.save(file_path+ \"catonfield.jpg\")"
   ]
  },
  {
   "cell_type": "code",
   "execution_count": null,
   "id": "f4aa74da",
   "metadata": {},
   "outputs": [],
   "source": []
  }
 ],
 "metadata": {
  "kernelspec": {
   "display_name": "Python 3 (ipykernel)",
   "language": "python",
   "name": "python3"
  },
  "language_info": {
   "codemirror_mode": {
    "name": "ipython",
    "version": 3
   },
   "file_extension": ".py",
   "mimetype": "text/x-python",
   "name": "python",
   "nbconvert_exporter": "python",
   "pygments_lexer": "ipython3",
   "version": "3.9.7"
  }
 },
 "nbformat": 4,
 "nbformat_minor": 5
}
