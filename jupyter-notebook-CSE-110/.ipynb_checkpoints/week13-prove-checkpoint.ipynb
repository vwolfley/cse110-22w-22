{
 "cells": [
  {
   "cell_type": "markdown",
   "metadata": {},
   "source": [
    "# Week 13 Prove: Assignment Milestone\n",
    "\n",
    "## Assignment\n",
    "\n",
    "Your assignment is to write a program that asks the user for a temperature and then shows the wind chill values for various wind speeds at that temperature.\n",
    "\n",
    "Your program should compute and display the wind chill for wind speeds of 5, 10, 15, ..., 60 miles per hour, just like the National Weather Service chart does. To help users who are more familiar with Celsius, your program should allow temperature to be entered in either Celsius or Fahrenheit, and if needed, convert the Celsius temperature to Fahrenheit before using the formula.\n",
    "\n",
    "#### Wind Chill\n",
    "    wc = 35.74 + 0.6215T - 35.75(V^0.16)+0.4275T(V^0.16)\n",
    "\n",
    "    T is the temperature in degrees Fahrenheit\n",
    "\n",
    "    V is the wind speed in miles per hour\n",
    "\n",
    "    V^0.16 means V to the power of 0.16, which can be found in Python using the ** operator.\n",
    "    \n",
    "\n",
    "## REQUIREMENTS\n",
    "The following are the required components of this assignment:\n",
    "\n",
    "01. Write a function to calculate and return the wind chill based on a given temperature and wind speed.\n",
    "\n",
    "02. Write a function to convert from Celsius to Fahrenheit. The formula for this conversion is to multiply the Celsius temperature by (9/5) and then add 32.\n",
    "\n",
    "03. Allow the user to enter the temperature in Celsius of Fahrenheit. If they provide it in Celsius, first convert it to Fahrenheit before using the formula above.\n",
    "\n",
    "04. Loop through wind speeds from 5 to 60 miles per hour, incrementing by 5, and calculate and display the wind chill for each of these wind speeds.\n",
    "\n",
    "05. Display the wind chill value to 2 decimals of precision.\n",
    "\n",
    "### Example\n",
    "    What is the temperature? -10\n",
    "    Fahrenheit or Celsius (F/C)? C\n",
    "    At temperature 14.0F, and wind speed 5 mph, the windchill is: 5.93F\n",
    "    At temperature 14.0F, and wind speed 10 mph, the windchill is: 1.42F\n",
    "    At temperature 14.0F, and wind speed 15 mph, the windchill is: -1.47F\n",
    "    At temperature 14.0F, and wind speed 20 mph, the windchill is: -3.63F\n",
    "    At temperature 14.0F, and wind speed 25 mph, the windchill is: -5.38F\n",
    "    At temperature 14.0F, and wind speed 30 mph, the windchill is: -6.85F\n",
    "    At temperature 14.0F, and wind speed 35 mph, the windchill is: -8.13F\n",
    "    At temperature 14.0F, and wind speed 40 mph, the windchill is: -9.27F\n",
    "    At temperature 14.0F, and wind speed 45 mph, the windchill is: -10.29F\n",
    "    At temperature 14.0F, and wind speed 50 mph, the windchill is: -11.22F\n",
    "    At temperature 14.0F, and wind speed 55 mph, the windchill is: -12.07F\n",
    "    At temperature 14.0F, and wind speed 60 mph, the windchill is: -12.87F\n",
    "\n"
   ]
  },
  {
   "cell_type": "code",
   "execution_count": 8,
   "metadata": {},
   "outputs": [
    {
     "name": "stdout",
     "output_type": "stream",
     "text": [
      "Is your temperature in Celsius or Fahrenheit? (C or F) f\n",
      "\n",
      "What is the temperature in °F?  32\n",
      "At temperature 0.0°C or 32°F, and 5mph, the windchill is: 27°F or -3°C\n",
      "At temperature 0.0°C or 32°F, and 10mph, the windchill is: 24°F or -5°C\n",
      "At temperature 0.0°C or 32°F, and 15mph, the windchill is: 22°F or -6°C\n",
      "At temperature 0.0°C or 32°F, and 20mph, the windchill is: 20°F or -7°C\n",
      "At temperature 0.0°C or 32°F, and 25mph, the windchill is: 19°F or -7°C\n",
      "At temperature 0.0°C or 32°F, and 30mph, the windchill is: 18°F or -8°C\n",
      "At temperature 0.0°C or 32°F, and 35mph, the windchill is: 17°F or -9°C\n",
      "At temperature 0.0°C or 32°F, and 40mph, the windchill is: 16°F or -9°C\n",
      "At temperature 0.0°C or 32°F, and 45mph, the windchill is: 15°F or -9°C\n",
      "At temperature 0.0°C or 32°F, and 50mph, the windchill is: 14°F or -10°C\n",
      "At temperature 0.0°C or 32°F, and 55mph, the windchill is: 14°F or -10°C\n",
      "At temperature 0.0°C or 32°F, and 60mph, the windchill is: 13°F or -10°C\n"
     ]
    }
   ],
   "source": [
    "####### \n",
    "# Date: 2022-04-02\n",
    "# Week 13 Prove: Milestone\n",
    "# File: week13-prove.py\n",
    "# Author: Vern Wolfley\n",
    "# Purpose: Wind Chill\n",
    "#######\n",
    "\n",
    "degree_sign = u'\\N{DEGREE SIGN}'\n",
    "\n",
    "# convert from celsius to fahrenheit\n",
    "def convert2fahrenheit(celsius):\n",
    "    f = (9 / 5) * celsius + 32\n",
    "    return f\n",
    "\n",
    "def convert2celsius(fahrenheit):\n",
    "    c = (fahrenheit - 32) * 5.0/9.0\n",
    "    return c\n",
    "\n",
    "# calculate wind chill with temperature in F, and wind speed in mph\n",
    "def wind_chill(temp, wind_speed):\n",
    "    wc = 35.74 + 0.6215*temp - 35.75*(wind_speed**0.16)+0.4275*temp*(wind_speed**0.16)\n",
    "    return round(wc,2)\n",
    "\n",
    "# Ask user for temperature type\n",
    "temp_type = input(\"Is your temperature in Celsius or Fahrenheit? (C or F) \").lower()\n",
    "\n",
    "# Ask user for temperature   \n",
    "if temp_type == \"c\":\n",
    "    tp = int(input(f\"\\nWhat is the temperature in {degree_sign}{temp_type.upper()}?  \"))\n",
    "    t = convert2fahrenheit(tp)\n",
    "elif temp_type == \"f\":\n",
    "    t = int(input(f\"\\nWhat is the temperature in {degree_sign}{temp_type.upper()}?  \"))\n",
    "    tp = convert2celsius(t)\n",
    "    \n",
    "    \n",
    "for ws in range(5, 65, 5):\n",
    "    anwser_f = wind_chill(t, ws)\n",
    "    anwser_c = convert2celsius(anwser_f)\n",
    "    print(f\"At temperature {tp:.0f}{degree_sign}C or {t:.0f}{degree_sign}F, and {ws}mph, the windchill is: {anwser_f:.0f}{degree_sign}F or {anwser_c:.0f}{degree_sign}C\")\n",
    "\n",
    "    \n"
   ]
  },
  {
   "cell_type": "markdown",
   "metadata": {},
   "source": [
    "### Convert from Celsius to Fahrenheit"
   ]
  },
  {
   "cell_type": "code",
   "execution_count": 4,
   "metadata": {},
   "outputs": [
    {
     "name": "stdout",
     "output_type": "stream",
     "text": [
      "Enter a value for celsius: 15\n",
      "Celsius: 15\n",
      "Fahrenheit: 59.0\n"
     ]
    }
   ],
   "source": [
    "def convert2fahrenheit(celsius):\n",
    "    f = (9 / 5) * celsius + 32\n",
    "    return round(f,1)\n",
    "\n",
    "def c_main():\n",
    "    celsius = int(input('Enter a temperature in celsius: '))\n",
    "    print('Celsius:', celsius)\n",
    "    print('Fahrenheit:', convert2fahrenheit(celsius))\n",
    "\n",
    "c_main()\n"
   ]
  },
  {
   "cell_type": "markdown",
   "metadata": {},
   "source": [
    "### Convert from Fahrenheit to Celsius"
   ]
  },
  {
   "cell_type": "code",
   "execution_count": 16,
   "metadata": {},
   "outputs": [
    {
     "name": "stdout",
     "output_type": "stream",
     "text": [
      "Enter a temperature in Fahrenheit: 10\n",
      "Fahrenheit: 10\n",
      "Celsius: -12.2\n"
     ]
    }
   ],
   "source": [
    "def convert2celsius(fahrenheit):\n",
    "    c = (fahrenheit - 32) * 5.0/9.0\n",
    "    return round(c, 1)\n",
    "\n",
    "def f_main():\n",
    "    fahrenheit = int(input(\"Enter a temperature in Fahrenheit: \"))\n",
    "    print('Fahrenheit:', fahrenheit)\n",
    "    print('Celsius:', convert2celsius(fahrenheit))\n",
    "\n",
    "f_main()"
   ]
  },
  {
   "cell_type": "code",
   "execution_count": 5,
   "metadata": {},
   "outputs": [
    {
     "name": "stdout",
     "output_type": "stream",
     "text": [
      "39.875733177821786\n",
      "47.7019177629149\n"
     ]
    }
   ],
   "source": [
    "# importing the module\n",
    "import math\n",
    "# writing function to reuse whenever we want\n",
    "def wind_chill_index(temperature, wind_speed):\n",
    "   return 13.12 + 0.6215 * temperature - 11.37 * math.pow(wind_speed, 0.16) + 0.3965 * temperature * math.pow(wind_speed, 0.16)\n",
    "# calculating the WCI\n",
    "print(wind_chill_index(35, 75))\n",
    "print(wind_chill_index(40, 125))"
   ]
  },
  {
   "cell_type": "code",
   "execution_count": 8,
   "metadata": {},
   "outputs": [
    {
     "name": "stdout",
     "output_type": "stream",
     "text": [
      "Enter wind speed in kilometers/hour: 55\n",
      "Enter air temperature in degrees Celsius: 67 \n",
      "The wind chill index is 84\n"
     ]
    }
   ],
   "source": [
    "import math\n",
    "wind = float(input(\"Enter wind speed in kilometers/hour: \"))\n",
    "temperature = float(input(\"Enter air temperature in degrees Celsius: \"))\n",
    "wind_chill_factor_index = 13.12 + 0.6215*temperature \\\n",
    "   - 11.37*math.pow(wind , 0.16) \\\n",
    "   + 0.3965*temperature*math.pow(wind , 0.16)\n",
    "print(\"The wind chill index is\", int(round( wind_chill_factor_index, 0)))"
   ]
  },
  {
   "cell_type": "code",
   "execution_count": null,
   "metadata": {},
   "outputs": [],
   "source": [
    "## Calculate wind chill index\n",
    "\n",
    "# import math\n",
    "# v = float(input(\"Input wind speed in kilometers/hour: \"))\n",
    "# t = float(input(\"Input air temperature in degrees Celsius: \"))\n",
    "# wci = 13.12 + 0.6215*t -  11.37*math.pow(v, 0.16) + 0.3965*t*math.pow(v, 0.16)\n",
    "# print(\"The wind chill index is\", int(round(wci, 0)))\n",
    "\n",
    "# def windChill(temp, wind):\n",
    "    \n",
    "#     return 13.12 + (.6215 * temp) - (11.37 * wind ** 770.16) + (.3965 * temp * wind **0.16)\n",
    "\n",
    "# for temp in range(-35,15,5):\n",
    "#     print ('temperature is %d' % temp)\n",
    "#     for wind in range(0,85,5):\n",
    "#         answer = 13.12 + (.6215 * temp) - (11.37 * wind ** 770.16) + (.3965 * temp * wind **0.16)\n",
    "#         print ('wind is %d calculated wind chill is: %d' % (wind, answer))\n",
    "\n",
    "# for temp in range(-35,15,5):\n",
    "#     print ('temperature is %d' % temp)\n",
    "#     for wind in range(0,85,5):\n",
    "#         answer = float(windChill(temp, wind))\n",
    "#         print ('wind is %d calculated wind chill is: %d' % (wind, answer))"
   ]
  }
 ],
 "metadata": {
  "interpreter": {
   "hash": "40d3a090f54c6569ab1632332b64b2c03c39dcf918b08424e98f38b5ae0af88f"
  },
  "kernelspec": {
   "display_name": "Python 3 (ipykernel)",
   "language": "python",
   "name": "python3"
  },
  "language_info": {
   "codemirror_mode": {
    "name": "ipython",
    "version": 3
   },
   "file_extension": ".py",
   "mimetype": "text/x-python",
   "name": "python",
   "nbconvert_exporter": "python",
   "pygments_lexer": "ipython3",
   "version": "3.9.7"
  }
 },
 "nbformat": 4,
 "nbformat_minor": 2
}
